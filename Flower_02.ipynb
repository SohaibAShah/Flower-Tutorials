{
 "cells": [
  {
   "cell_type": "markdown",
   "id": "37b5e125",
   "metadata": {},
   "source": [
    "# Use a federated learning strategy\n",
    "Welcome Back! to the Flower federated learning tutorial!\n",
    "\n",
    "In this notebook, we’ll begin to customize the federated learning system we built in the introductory notebook again, using the Flower framework, Flower Datasets, and PyTorch."
   ]
  },
  {
   "cell_type": "markdown",
   "id": "bb536452",
   "metadata": {},
   "source": [
    "## Step 0: Preparation"
   ]
  },
  {
   "cell_type": "markdown",
   "id": "50214f1d",
   "metadata": {},
   "source": [
    "### Loading dependencies"
   ]
  },
  {
   "cell_type": "code",
   "execution_count": 1,
   "id": "35ba97a2",
   "metadata": {},
   "outputs": [
    {
     "name": "stdout",
     "output_type": "stream",
     "text": [
      "Training on cuda\n",
      "Flower 1.20.0 / PyTorch 2.7.1+cu126\n"
     ]
    }
   ],
   "source": [
    "from collections import OrderedDict\n",
    "from typing import Dict, List, Optional, Tuple\n",
    "\n",
    "import numpy as np\n",
    "import torch\n",
    "import torch.nn as nn\n",
    "import torch.nn.functional as F\n",
    "import torchvision.transforms as transforms\n",
    "from torch.utils.data import DataLoader\n",
    "from datasets.utils.logging import disable_progress_bar\n",
    "\n",
    "import flwr\n",
    "from flwr.client import Client, ClientApp, NumPyClient\n",
    "from flwr.server import ServerApp, ServerConfig, ServerAppComponents\n",
    "from flwr.server.strategy import FedAvg, FedAdagrad\n",
    "from flwr.simulation import run_simulation\n",
    "from flwr_datasets import FederatedDataset\n",
    "from flwr.common import ndarrays_to_parameters, NDArrays, Scalar, Context\n",
    "DEVICE = \"cuda\" if torch.cuda.is_available() else \"cpu\"\n",
    "print(f\"Training on {DEVICE}\")\n",
    "print(f\"Flower {flwr.__version__} / PyTorch {torch.__version__}\")\n",
    "disable_progress_bar()\n"
   ]
  },
  {
   "cell_type": "markdown",
   "id": "c910863c",
   "metadata": {},
   "source": [
    "### Loading Data"
   ]
  },
  {
   "cell_type": "code",
   "execution_count": 2,
   "id": "ee53fc4e",
   "metadata": {},
   "outputs": [],
   "source": [
    "NUM_PARTITIONS = 10\n",
    "BATCH_SIZE = 32\n",
    "\n",
    "\n",
    "def load_datasets(partition_id: int, num_partitions: int):\n",
    "    fds = FederatedDataset(dataset=\"cifar10\", partitioners={\"train\": num_partitions})\n",
    "    partition = fds.load_partition(partition_id)\n",
    "    # Divide data on each node: 80% train, 20% test\n",
    "    partition_train_test = partition.train_test_split(test_size=0.2, seed=42)\n",
    "    pytorch_transforms = transforms.Compose(\n",
    "        [transforms.ToTensor(), transforms.Normalize((0.5, 0.5, 0.5), (0.5, 0.5, 0.5))]\n",
    "    )\n",
    "\n",
    "    def apply_transforms(batch):\n",
    "        # Instead of passing transforms to CIFAR10(..., transform=transform)\n",
    "        # we will use this function to dataset.with_transform(apply_transforms)\n",
    "        # The transforms object is exactly the same\n",
    "        batch[\"img\"] = [pytorch_transforms(img) for img in batch[\"img\"]]\n",
    "        return batch\n",
    "\n",
    "    partition_train_test = partition_train_test.with_transform(apply_transforms)\n",
    "    trainloader = DataLoader(\n",
    "        partition_train_test[\"train\"], batch_size=BATCH_SIZE, shuffle=True\n",
    "    )\n",
    "    valloader = DataLoader(partition_train_test[\"test\"], batch_size=BATCH_SIZE)\n",
    "    testset = fds.load_split(\"test\").with_transform(apply_transforms)\n",
    "    testloader = DataLoader(testset, batch_size=BATCH_SIZE)\n",
    "    return trainloader, valloader, testloader"
   ]
  },
  {
   "cell_type": "markdown",
   "id": "3d149217",
   "metadata": {},
   "source": [
    "### Model training/evaluation"
   ]
  },
  {
   "cell_type": "code",
   "execution_count": 3,
   "id": "a34165db",
   "metadata": {},
   "outputs": [],
   "source": [
    "class Net(nn.Module):\n",
    "    def __init__(self) -> None:\n",
    "        super(Net, self).__init__()\n",
    "        self.conv1 = nn.Conv2d(3, 6, 5)\n",
    "        self.pool = nn.MaxPool2d(2, 2)\n",
    "        self.conv2 = nn.Conv2d(6, 16, 5)\n",
    "        self.fc1 = nn.Linear(16 * 5 * 5, 120)\n",
    "        self.fc2 = nn.Linear(120, 84)\n",
    "        self.fc3 = nn.Linear(84, 10)\n",
    "\n",
    "    def forward(self, x: torch.Tensor) -> torch.Tensor:\n",
    "        x = self.pool(F.relu(self.conv1(x)))\n",
    "        x = self.pool(F.relu(self.conv2(x)))\n",
    "        x = x.view(-1, 16 * 5 * 5)\n",
    "        x = F.relu(self.fc1(x))\n",
    "        x = F.relu(self.fc2(x))\n",
    "        x = self.fc3(x)\n",
    "        return x\n",
    "\n",
    "\n",
    "def get_parameters(net) -> List[np.ndarray]:\n",
    "    return [val.cpu().numpy() for _, val in net.state_dict().items()]\n",
    "\n",
    "\n",
    "def set_parameters(net, parameters: List[np.ndarray]):\n",
    "    params_dict = zip(net.state_dict().keys(), parameters)\n",
    "    state_dict = OrderedDict({k: torch.Tensor(v) for k, v in params_dict})\n",
    "    net.load_state_dict(state_dict, strict=True)\n",
    "\n",
    "\n",
    "def train(net, trainloader, epochs: int):\n",
    "    \"\"\"Train the network on the training set.\"\"\"\n",
    "    criterion = torch.nn.CrossEntropyLoss()\n",
    "    optimizer = torch.optim.Adam(net.parameters())\n",
    "    net.train()\n",
    "    for epoch in range(epochs):\n",
    "        correct, total, epoch_loss = 0, 0, 0.0\n",
    "        for batch in trainloader:\n",
    "            images, labels = batch[\"img\"], batch[\"label\"]\n",
    "            images, labels = images.to(DEVICE), labels.to(DEVICE)\n",
    "            optimizer.zero_grad()\n",
    "            outputs = net(images)\n",
    "            loss = criterion(net(images), labels)\n",
    "            loss.backward()\n",
    "            optimizer.step()\n",
    "            # Metrics\n",
    "            epoch_loss += loss\n",
    "            total += labels.size(0)\n",
    "            correct += (torch.max(outputs.data, 1)[1] == labels).sum().item()\n",
    "        epoch_loss /= len(trainloader.dataset)\n",
    "        epoch_acc = correct / total\n",
    "        print(f\"Epoch {epoch+1}: train loss {epoch_loss}, accuracy {epoch_acc}\")\n",
    "\n",
    "\n",
    "def test(net, testloader):\n",
    "    \"\"\"Evaluate the network on the entire test set.\"\"\"\n",
    "    criterion = torch.nn.CrossEntropyLoss()\n",
    "    correct, total, loss = 0, 0, 0.0\n",
    "    net.eval()\n",
    "    with torch.no_grad():\n",
    "        for batch in testloader:\n",
    "            images, labels = batch[\"img\"], batch[\"label\"]\n",
    "            images, labels = images.to(DEVICE), labels.to(DEVICE)\n",
    "            outputs = net(images)\n",
    "            loss += criterion(outputs, labels).item()\n",
    "            _, predicted = torch.max(outputs.data, 1)\n",
    "            total += labels.size(0)\n",
    "            correct += (predicted == labels).sum().item()\n",
    "    loss /= len(testloader.dataset)\n",
    "    accuracy = correct / total\n",
    "    return loss, accuracy"
   ]
  },
  {
   "cell_type": "markdown",
   "id": "2e712e86",
   "metadata": {},
   "source": [
    "### Define the Flower ClientApp\n",
    "\n",
    "The first step toward creating a ClientApp is to implement a subclasses of flwr.client.Client or flwr.client.NumPyClient. We use NumPyClient in this tutorial because it is easier to implement and requires us to write less boilerplate. To implement NumPyClient, we create a subclass that implements the three methods get_parameters, fit, and evaluate:\n",
    "\n",
    "get_parameters: Return the current local model parameters\n",
    "\n",
    "fit: Receive model parameters from the server, train the model on the local data, and return the updated model parameters to the server\n",
    "\n",
    "evaluate: Receive model parameters from the server, evaluate the model on the local data, and return the evaluation result to the server"
   ]
  },
  {
   "cell_type": "code",
   "execution_count": 4,
   "id": "4da46039",
   "metadata": {},
   "outputs": [],
   "source": [
    "class FlowerClient(NumPyClient):\n",
    "    def __init__(self, partition_id, net, trainloader, valloader):\n",
    "        self.partition_id = partition_id\n",
    "        self.net = net\n",
    "        self.trainloader = trainloader\n",
    "        self.valloader = valloader\n",
    "\n",
    "    def get_parameters(self, config):\n",
    "        print(f\"[Client {self.partition_id}] get_parameters\")\n",
    "        return get_parameters(self.net)\n",
    "\n",
    "    def fit(self, parameters, config):\n",
    "        print(f\"[Client {self.partition_id}] fit, config: {config}\")\n",
    "        set_parameters(self.net, parameters)\n",
    "        train(self.net, self.trainloader, epochs=1)\n",
    "        return get_parameters(self.net), len(self.trainloader), {}\n",
    "\n",
    "    def evaluate(self, parameters, config):\n",
    "        print(f\"[Client {self.partition_id}] evaluate, config: {config}\")\n",
    "        set_parameters(self.net, parameters)\n",
    "        loss, accuracy = test(self.net, self.valloader)\n",
    "        return float(loss), len(self.valloader), {\"accuracy\": float(accuracy)}\n",
    "\n",
    "\n",
    "def client_fn(context: Context) -> Client:\n",
    "    net = Net().to(DEVICE)\n",
    "\n",
    "    # Read the node_config to fetch data partition associated to this node\n",
    "    partition_id = context.node_config[\"partition-id\"]\n",
    "    num_partitions = context.node_config[\"num-partitions\"]\n",
    "\n",
    "    trainloader, valloader, _ = load_datasets(partition_id, num_partitions)\n",
    "    return FlowerClient(partition_id, net, trainloader, valloader).to_client()\n",
    "\n",
    "\n",
    "# Create the ClientApp\n",
    "client = ClientApp(client_fn=client_fn)"
   ]
  },
  {
   "cell_type": "markdown",
   "id": "31227269",
   "metadata": {},
   "source": [
    "## Strategy customization"
   ]
  },
  {
   "cell_type": "markdown",
   "id": "977e46f6",
   "metadata": {},
   "source": [
    "### Server-side parameter initialization"
   ]
  },
  {
   "cell_type": "code",
   "execution_count": 5,
   "id": "797b975a",
   "metadata": {},
   "outputs": [],
   "source": [
    "# Create an instance of the model and get the parameters\n",
    "params = get_parameters(Net())"
   ]
  },
  {
   "cell_type": "code",
   "execution_count": 6,
   "id": "ba53afc1",
   "metadata": {},
   "outputs": [],
   "source": [
    "# Create a list of ClientConfig objects, one for each client\n",
    "client_configs = [{\"partition_id\": i} for i in range(NUM_PARTITIONS)]\n",
    "\n",
    "# Specify the resources each of your clients need\n",
    "# By default, each client will be allocated 1x CPU and 0x GPUs\n",
    "backend_config = {\"client_resources\": {\"num_cpus\": 1, \"num_gpus\": 0.0},\n",
    "                      \"client_configs\": client_configs  # Pass the client configurations\n",
    "                     }\n",
    "\n",
    "# When running on GPU, assign an entire GPU for each client\n",
    "if DEVICE == \"cuda\":\n",
    "    backend_config = {\"client_resources\": {\"num_cpus\": 1, \"num_gpus\": 1.0},\n",
    "                      \"client_configs\": client_configs  # Pass the client configurations\n",
    "                     }\n",
    "    # Refer to our Flower framework documentation for more details about Flower simulations\n",
    "    # and how to set up the `backend_config`"
   ]
  },
  {
   "cell_type": "code",
   "execution_count": 7,
   "id": "8abbc2f5",
   "metadata": {},
   "outputs": [],
   "source": [
    "def server_fn(context: Context) -> ServerAppComponents:\n",
    "    # Create FedAvg strategy\n",
    "    strategy = FedAvg(\n",
    "        fraction_fit=0.3,\n",
    "        fraction_evaluate=0.3,\n",
    "        min_fit_clients=3,\n",
    "        min_evaluate_clients=3,\n",
    "        min_available_clients=NUM_PARTITIONS,\n",
    "        initial_parameters=ndarrays_to_parameters(\n",
    "            params\n",
    "        ),  # Pass initial model parameters\n",
    "    )\n",
    "\n",
    "    # Configure the server for 3 rounds of training\n",
    "    config = ServerConfig(num_rounds=3)\n",
    "    return ServerAppComponents(strategy=strategy, config=config)\n",
    "\n",
    "# Create ServerApp\n",
    "server = ServerApp(server_fn=server_fn)"
   ]
  },
  {
   "cell_type": "code",
   "execution_count": 8,
   "id": "edd3cbb7",
   "metadata": {},
   "outputs": [
    {
     "name": "stderr",
     "output_type": "stream",
     "text": [
      "\u001b[92mINFO \u001b[0m:      Starting Flower ServerApp, config: num_rounds=3, no round_timeout\n",
      "\u001b[92mINFO \u001b[0m:      \n",
      "\u001b[92mINFO \u001b[0m:      [INIT]\n",
      "\u001b[92mINFO \u001b[0m:      Using initial global parameters provided by strategy\n",
      "\u001b[92mINFO \u001b[0m:      Starting evaluation of initial global parameters\n",
      "\u001b[92mINFO \u001b[0m:      Evaluation returned no results (`None`)\n",
      "\u001b[92mINFO \u001b[0m:      \n"
     ]
    },
    {
     "name": "stderr",
     "output_type": "stream",
     "text": [
      "\u001b[92mINFO \u001b[0m:      [ROUND 1]\n",
      "\u001b[92mINFO \u001b[0m:      configure_fit: strategy sampled 3 clients (out of 10)\n"
     ]
    },
    {
     "name": "stdout",
     "output_type": "stream",
     "text": [
      "\u001b[36m(ClientAppActor pid=74042)\u001b[0m [Client 0] fit, config: {}\n",
      "\u001b[36m(ClientAppActor pid=74042)\u001b[0m Epoch 1: train loss 0.06471679359674454, accuracy 0.21225\n",
      "\u001b[36m(ClientAppActor pid=74042)\u001b[0m [Client 3] fit, config: {}\n",
      "\u001b[36m(ClientAppActor pid=74042)\u001b[0m Epoch 1: train loss 0.0645328238606453, accuracy 0.22325\n",
      "\u001b[36m(ClientAppActor pid=74042)\u001b[0m [Client 5] fit, config: {}\n"
     ]
    },
    {
     "name": "stderr",
     "output_type": "stream",
     "text": [
      "\u001b[92mINFO \u001b[0m:      aggregate_fit: received 3 results and 0 failures\n",
      "\u001b[93mWARNING \u001b[0m:   No fit_metrics_aggregation_fn provided\n",
      "\u001b[92mINFO \u001b[0m:      configure_evaluate: strategy sampled 3 clients (out of 10)\n"
     ]
    },
    {
     "name": "stdout",
     "output_type": "stream",
     "text": [
      "\u001b[36m(ClientAppActor pid=74042)\u001b[0m Epoch 1: train loss 0.06615382432937622, accuracy 0.201\n",
      "\u001b[36m(ClientAppActor pid=74042)\u001b[0m [Client 0] evaluate, config: {}\n",
      "\u001b[36m(ClientAppActor pid=74042)\u001b[0m [Client 6] evaluate, config: {}\n",
      "\u001b[36m(ClientAppActor pid=74042)\u001b[0m [Client 7] evaluate, config: {}\n"
     ]
    },
    {
     "name": "stderr",
     "output_type": "stream",
     "text": [
      "\u001b[92mINFO \u001b[0m:      aggregate_evaluate: received 3 results and 0 failures\n",
      "\u001b[93mWARNING \u001b[0m:   No evaluate_metrics_aggregation_fn provided\n",
      "\u001b[92mINFO \u001b[0m:      \n",
      "\u001b[92mINFO \u001b[0m:      [ROUND 2]\n",
      "\u001b[92mINFO \u001b[0m:      configure_fit: strategy sampled 3 clients (out of 10)\n"
     ]
    },
    {
     "name": "stdout",
     "output_type": "stream",
     "text": [
      "\u001b[36m(ClientAppActor pid=74042)\u001b[0m [Client 5] fit, config: {}\n",
      "\u001b[36m(ClientAppActor pid=74042)\u001b[0m Epoch 1: train loss 0.057944368571043015, accuracy 0.304\n",
      "\u001b[36m(ClientAppActor pid=74042)\u001b[0m [Client 6] fit, config: {}\n",
      "\u001b[36m(ClientAppActor pid=74042)\u001b[0m Epoch 1: train loss 0.057033099234104156, accuracy 0.32\n",
      "\u001b[36m(ClientAppActor pid=74042)\u001b[0m [Client 8] fit, config: {}\n"
     ]
    },
    {
     "name": "stderr",
     "output_type": "stream",
     "text": [
      "\u001b[92mINFO \u001b[0m:      aggregate_fit: received 3 results and 0 failures\n",
      "\u001b[92mINFO \u001b[0m:      configure_evaluate: strategy sampled 3 clients (out of 10)\n"
     ]
    },
    {
     "name": "stdout",
     "output_type": "stream",
     "text": [
      "\u001b[36m(ClientAppActor pid=74042)\u001b[0m Epoch 1: train loss 0.05787914618849754, accuracy 0.32225\n",
      "\u001b[36m(ClientAppActor pid=74042)\u001b[0m [Client 5] evaluate, config: {}\n",
      "\u001b[36m(ClientAppActor pid=74042)\u001b[0m [Client 8] evaluate, config: {}\n",
      "\u001b[36m(ClientAppActor pid=74042)\u001b[0m [Client 9] evaluate, config: {}\n"
     ]
    },
    {
     "name": "stderr",
     "output_type": "stream",
     "text": [
      "\u001b[92mINFO \u001b[0m:      aggregate_evaluate: received 3 results and 0 failures\n",
      "\u001b[92mINFO \u001b[0m:      \n",
      "\u001b[92mINFO \u001b[0m:      [ROUND 3]\n",
      "\u001b[92mINFO \u001b[0m:      configure_fit: strategy sampled 3 clients (out of 10)\n"
     ]
    },
    {
     "name": "stdout",
     "output_type": "stream",
     "text": [
      "\u001b[36m(ClientAppActor pid=74042)\u001b[0m [Client 0] fit, config: {}\n",
      "\u001b[36m(ClientAppActor pid=74042)\u001b[0m Epoch 1: train loss 0.05401994660496712, accuracy 0.37175\n",
      "\u001b[36m(ClientAppActor pid=74042)\u001b[0m [Client 6] fit, config: {}\n",
      "\u001b[36m(ClientAppActor pid=74042)\u001b[0m Epoch 1: train loss 0.05263754725456238, accuracy 0.37925\n",
      "\u001b[36m(ClientAppActor pid=74042)\u001b[0m [Client 8] fit, config: {}\n"
     ]
    },
    {
     "name": "stderr",
     "output_type": "stream",
     "text": [
      "\u001b[92mINFO \u001b[0m:      aggregate_fit: received 3 results and 0 failures\n",
      "\u001b[92mINFO \u001b[0m:      configure_evaluate: strategy sampled 3 clients (out of 10)\n"
     ]
    },
    {
     "name": "stdout",
     "output_type": "stream",
     "text": [
      "\u001b[36m(ClientAppActor pid=74042)\u001b[0m Epoch 1: train loss 0.053533826023340225, accuracy 0.36525\n",
      "\u001b[36m(ClientAppActor pid=74042)\u001b[0m [Client 0] evaluate, config: {}\n",
      "\u001b[36m(ClientAppActor pid=74042)\u001b[0m [Client 3] evaluate, config: {}\n",
      "\u001b[36m(ClientAppActor pid=74042)\u001b[0m [Client 9] evaluate, config: {}\n"
     ]
    },
    {
     "name": "stderr",
     "output_type": "stream",
     "text": [
      "\u001b[92mINFO \u001b[0m:      aggregate_evaluate: received 3 results and 0 failures\n",
      "\u001b[92mINFO \u001b[0m:      \n",
      "\u001b[92mINFO \u001b[0m:      [SUMMARY]\n",
      "\u001b[92mINFO \u001b[0m:      Run finished 3 round(s) in 88.20s\n",
      "\u001b[92mINFO \u001b[0m:      \tHistory (loss, distributed):\n",
      "\u001b[92mINFO \u001b[0m:      \t\tround 1: 0.06338811039924622\n",
      "\u001b[92mINFO \u001b[0m:      \t\tround 2: 0.05562281262874603\n",
      "\u001b[92mINFO \u001b[0m:      \t\tround 3: 0.05197260351975758\n",
      "\u001b[92mINFO \u001b[0m:      \n"
     ]
    }
   ],
   "source": [
    "\n",
    "\n",
    "# Run simulation\n",
    "run_simulation(\n",
    "    server_app=server,\n",
    "    client_app=client,\n",
    "    num_supernodes=NUM_PARTITIONS,\n",
    "    backend_config=backend_config,\n",
    ")"
   ]
  },
  {
   "cell_type": "markdown",
   "id": "a2f9eff0",
   "metadata": {},
   "source": [
    "### Starting with a customized strategy"
   ]
  },
  {
   "cell_type": "code",
   "execution_count": 9,
   "id": "605b886a",
   "metadata": {},
   "outputs": [
    {
     "name": "stderr",
     "output_type": "stream",
     "text": [
      "\u001b[92mINFO \u001b[0m:      Starting Flower ServerApp, config: num_rounds=3, no round_timeout\n",
      "\u001b[92mINFO \u001b[0m:      \n",
      "\u001b[92mINFO \u001b[0m:      [INIT]\n",
      "\u001b[92mINFO \u001b[0m:      Using initial global parameters provided by strategy\n",
      "\u001b[92mINFO \u001b[0m:      Starting evaluation of initial global parameters\n",
      "\u001b[92mINFO \u001b[0m:      Evaluation returned no results (`None`)\n",
      "\u001b[92mINFO \u001b[0m:      \n",
      "\u001b[92mINFO \u001b[0m:      [ROUND 1]\n",
      "\u001b[92mINFO \u001b[0m:      configure_fit: strategy sampled 3 clients (out of 10)\n"
     ]
    },
    {
     "name": "stdout",
     "output_type": "stream",
     "text": [
      "\u001b[36m(ClientAppActor pid=143168)\u001b[0m [Client 0] fit, config: {}\n",
      "\u001b[36m(ClientAppActor pid=143168)\u001b[0m Epoch 1: train loss 0.0652865543961525, accuracy 0.221\n",
      "\u001b[36m(ClientAppActor pid=143168)\u001b[0m [Client 7] fit, config: {}\n",
      "\u001b[36m(ClientAppActor pid=143168)\u001b[0m Epoch 1: train loss 0.06579652428627014, accuracy 0.21375\n",
      "\u001b[36m(ClientAppActor pid=143168)\u001b[0m [Client 8] fit, config: {}\n"
     ]
    },
    {
     "name": "stderr",
     "output_type": "stream",
     "text": [
      "\u001b[92mINFO \u001b[0m:      aggregate_fit: received 3 results and 0 failures\n",
      "\u001b[93mWARNING \u001b[0m:   No fit_metrics_aggregation_fn provided\n",
      "\u001b[92mINFO \u001b[0m:      configure_evaluate: strategy sampled 3 clients (out of 10)\n"
     ]
    },
    {
     "name": "stdout",
     "output_type": "stream",
     "text": [
      "\u001b[36m(ClientAppActor pid=143168)\u001b[0m Epoch 1: train loss 0.06515423953533173, accuracy 0.22225\n",
      "\u001b[36m(ClientAppActor pid=143168)\u001b[0m [Client 4] evaluate, config: {}\n",
      "\u001b[36m(ClientAppActor pid=143168)\u001b[0m [Client 5] evaluate, config: {}\n",
      "\u001b[36m(ClientAppActor pid=143168)\u001b[0m [Client 7] evaluate, config: {}\n"
     ]
    },
    {
     "name": "stderr",
     "output_type": "stream",
     "text": [
      "\u001b[92mINFO \u001b[0m:      aggregate_evaluate: received 3 results and 0 failures\n",
      "\u001b[93mWARNING \u001b[0m:   No evaluate_metrics_aggregation_fn provided\n",
      "\u001b[92mINFO \u001b[0m:      \n",
      "\u001b[92mINFO \u001b[0m:      [ROUND 2]\n",
      "\u001b[92mINFO \u001b[0m:      configure_fit: strategy sampled 3 clients (out of 10)\n"
     ]
    },
    {
     "name": "stdout",
     "output_type": "stream",
     "text": [
      "\u001b[36m(ClientAppActor pid=143168)\u001b[0m [Client 3] fit, config: {}\n",
      "\u001b[36m(ClientAppActor pid=143168)\u001b[0m Epoch 1: train loss 0.5984933972358704, accuracy 0.27975\n",
      "\u001b[36m(ClientAppActor pid=143168)\u001b[0m [Client 4] fit, config: {}\n",
      "\u001b[36m(ClientAppActor pid=143168)\u001b[0m Epoch 1: train loss 0.6368985176086426, accuracy 0.26625\n",
      "\u001b[36m(ClientAppActor pid=143168)\u001b[0m [Client 7] fit, config: {}\n"
     ]
    },
    {
     "name": "stderr",
     "output_type": "stream",
     "text": [
      "\u001b[92mINFO \u001b[0m:      aggregate_fit: received 3 results and 0 failures\n",
      "\u001b[92mINFO \u001b[0m:      configure_evaluate: strategy sampled 3 clients (out of 10)\n"
     ]
    },
    {
     "name": "stdout",
     "output_type": "stream",
     "text": [
      "\u001b[36m(ClientAppActor pid=143168)\u001b[0m Epoch 1: train loss 0.6322721242904663, accuracy 0.292\n",
      "\u001b[36m(ClientAppActor pid=143168)\u001b[0m [Client 0] evaluate, config: {}\n",
      "\u001b[36m(ClientAppActor pid=143168)\u001b[0m [Client 2] evaluate, config: {}\n",
      "\u001b[36m(ClientAppActor pid=143168)\u001b[0m [Client 8] evaluate, config: {}\n"
     ]
    },
    {
     "name": "stderr",
     "output_type": "stream",
     "text": [
      "\u001b[92mINFO \u001b[0m:      aggregate_evaluate: received 3 results and 0 failures\n",
      "\u001b[92mINFO \u001b[0m:      \n",
      "\u001b[92mINFO \u001b[0m:      [ROUND 3]\n",
      "\u001b[92mINFO \u001b[0m:      configure_fit: strategy sampled 3 clients (out of 10)\n"
     ]
    },
    {
     "name": "stdout",
     "output_type": "stream",
     "text": [
      "\u001b[36m(ClientAppActor pid=143168)\u001b[0m [Client 2] fit, config: {}\n",
      "\u001b[36m(ClientAppActor pid=143168)\u001b[0m Epoch 1: train loss 0.08759572356939316, accuracy 0.171\n",
      "\u001b[36m(ClientAppActor pid=143168)\u001b[0m [Client 6] fit, config: {}\n",
      "\u001b[36m(ClientAppActor pid=143168)\u001b[0m Epoch 1: train loss 0.08578860014677048, accuracy 0.178\n",
      "\u001b[36m(ClientAppActor pid=143168)\u001b[0m [Client 8] fit, config: {}\n"
     ]
    },
    {
     "name": "stderr",
     "output_type": "stream",
     "text": [
      "\u001b[92mINFO \u001b[0m:      aggregate_fit: received 3 results and 0 failures\n",
      "\u001b[92mINFO \u001b[0m:      configure_evaluate: strategy sampled 3 clients (out of 10)\n"
     ]
    },
    {
     "name": "stdout",
     "output_type": "stream",
     "text": [
      "\u001b[36m(ClientAppActor pid=143168)\u001b[0m Epoch 1: train loss 0.08662308752536774, accuracy 0.1785\n",
      "\u001b[36m(ClientAppActor pid=143168)\u001b[0m [Client 4] evaluate, config: {}\n",
      "\u001b[36m(ClientAppActor pid=143168)\u001b[0m [Client 6] evaluate, config: {}\n",
      "\u001b[36m(ClientAppActor pid=143168)\u001b[0m [Client 9] evaluate, config: {}\n"
     ]
    },
    {
     "name": "stderr",
     "output_type": "stream",
     "text": [
      "\u001b[92mINFO \u001b[0m:      aggregate_evaluate: received 3 results and 0 failures\n",
      "\u001b[92mINFO \u001b[0m:      \n",
      "\u001b[92mINFO \u001b[0m:      [SUMMARY]\n",
      "\u001b[92mINFO \u001b[0m:      Run finished 3 round(s) in 92.65s\n",
      "\u001b[92mINFO \u001b[0m:      \tHistory (loss, distributed):\n",
      "\u001b[92mINFO \u001b[0m:      \t\tround 1: 4.898074420928955\n",
      "\u001b[92mINFO \u001b[0m:      \t\tround 2: 0.3416735932032267\n",
      "\u001b[92mINFO \u001b[0m:      \t\tround 3: 0.07738929653167725\n",
      "\u001b[92mINFO \u001b[0m:      \n"
     ]
    }
   ],
   "source": [
    "def server_fn(context: Context) -> ServerAppComponents:\n",
    "    # Create FedAdagrad strategy\n",
    "    strategy = FedAdagrad(\n",
    "        fraction_fit=0.3,\n",
    "        fraction_evaluate=0.3,\n",
    "        min_fit_clients=3,\n",
    "        min_evaluate_clients=3,\n",
    "        min_available_clients=NUM_PARTITIONS,\n",
    "        initial_parameters=ndarrays_to_parameters(params),\n",
    "    )\n",
    "    # Configure the server for 3 rounds of training\n",
    "    config = ServerConfig(num_rounds=3)\n",
    "    return ServerAppComponents(strategy=strategy, config=config)\n",
    "\n",
    "\n",
    "# Create the ServerApp\n",
    "server = ServerApp(server_fn=server_fn)\n",
    "\n",
    "# Run simulation\n",
    "run_simulation(\n",
    "    server_app=server,\n",
    "    client_app=client,\n",
    "    num_supernodes=NUM_PARTITIONS,\n",
    "    backend_config=backend_config,\n",
    ")"
   ]
  },
  {
   "cell_type": "markdown",
   "id": "df3ebd15",
   "metadata": {},
   "source": [
    "### Server-side parameter evaluation"
   ]
  },
  {
   "cell_type": "code",
   "execution_count": 10,
   "id": "002fedaf",
   "metadata": {},
   "outputs": [],
   "source": [
    "# The `evaluate` function will be called by Flower after every round\n",
    "def evaluate(\n",
    "    server_round: int,\n",
    "    parameters: NDArrays,\n",
    "    config: Dict[str, Scalar],\n",
    ") -> Optional[Tuple[float, Dict[str, Scalar]]]:\n",
    "    net = Net().to(DEVICE)\n",
    "    _, _, testloader = load_datasets(0, NUM_PARTITIONS)\n",
    "    set_parameters(net, parameters)  # Update model with the latest parameters\n",
    "    loss, accuracy = test(net, testloader)\n",
    "    print(f\"Server-side evaluation loss {loss} / accuracy {accuracy}\")\n",
    "    return loss, {\"accuracy\": accuracy}"
   ]
  },
  {
   "cell_type": "code",
   "execution_count": 11,
   "id": "7f0fc34f",
   "metadata": {},
   "outputs": [],
   "source": [
    "def server_fn(context: Context) -> ServerAppComponents:\n",
    "    # Create the FedAvg strategy\n",
    "    strategy = FedAvg(\n",
    "        fraction_fit=0.3,\n",
    "        fraction_evaluate=0.3,\n",
    "        min_fit_clients=3,\n",
    "        min_evaluate_clients=3,\n",
    "        min_available_clients=NUM_PARTITIONS,\n",
    "        #initial_parameters=ndarrays_to_parameters(params),\n",
    "        #evaluate_fn=evaluate,  # Pass the evaluation function\n",
    "    )\n",
    "    # Configure the server for 3 rounds of training\n",
    "    config = ServerConfig(num_rounds=3)\n",
    "    return ServerAppComponents(strategy=strategy, config=config)\n",
    "\n",
    "\n",
    "# Create the ServerApp\n",
    "server = ServerApp(server_fn=server_fn)"
   ]
  },
  {
   "cell_type": "code",
   "execution_count": 12,
   "id": "2c238d99",
   "metadata": {},
   "outputs": [
    {
     "name": "stderr",
     "output_type": "stream",
     "text": [
      "\u001b[92mINFO \u001b[0m:      Starting Flower ServerApp, config: num_rounds=3, no round_timeout\n",
      "\u001b[92mINFO \u001b[0m:      \n",
      "\u001b[92mINFO \u001b[0m:      [INIT]\n",
      "\u001b[92mINFO \u001b[0m:      Requesting initial parameters from one random client\n",
      "\u001b[92mINFO \u001b[0m:      Received initial parameters from one random client\n",
      "\u001b[92mINFO \u001b[0m:      Starting evaluation of initial global parameters\n",
      "\u001b[92mINFO \u001b[0m:      Evaluation returned no results (`None`)\n",
      "\u001b[92mINFO \u001b[0m:      \n",
      "\u001b[92mINFO \u001b[0m:      [ROUND 1]\n",
      "\u001b[92mINFO \u001b[0m:      configure_fit: strategy sampled 3 clients (out of 10)\n"
     ]
    },
    {
     "name": "stdout",
     "output_type": "stream",
     "text": [
      "\u001b[36m(ClientAppActor pid=144503)\u001b[0m [Client 9] get_parameters\n",
      "\u001b[36m(ClientAppActor pid=144503)\u001b[0m [Client 0] fit, config: {}\n",
      "\u001b[36m(ClientAppActor pid=144503)\u001b[0m Epoch 1: train loss 0.06609909236431122, accuracy 0.20775\n",
      "\u001b[36m(ClientAppActor pid=144503)\u001b[0m [Client 1] fit, config: {}\n",
      "\u001b[36m(ClientAppActor pid=144503)\u001b[0m Epoch 1: train loss 0.06607887893915176, accuracy 0.204\n",
      "\u001b[36m(ClientAppActor pid=144503)\u001b[0m [Client 3] fit, config: {}\n"
     ]
    },
    {
     "name": "stderr",
     "output_type": "stream",
     "text": [
      "\u001b[92mINFO \u001b[0m:      aggregate_fit: received 3 results and 0 failures\n",
      "\u001b[93mWARNING \u001b[0m:   No fit_metrics_aggregation_fn provided\n",
      "\u001b[92mINFO \u001b[0m:      configure_evaluate: strategy sampled 3 clients (out of 10)\n"
     ]
    },
    {
     "name": "stdout",
     "output_type": "stream",
     "text": [
      "\u001b[36m(ClientAppActor pid=144503)\u001b[0m Epoch 1: train loss 0.06502433121204376, accuracy 0.23025\n",
      "\u001b[36m(ClientAppActor pid=144503)\u001b[0m [Client 0] evaluate, config: {}\n",
      "\u001b[36m(ClientAppActor pid=144503)\u001b[0m [Client 8] evaluate, config: {}\n",
      "\u001b[36m(ClientAppActor pid=144503)\u001b[0m [Client 9] evaluate, config: {}\n"
     ]
    },
    {
     "name": "stderr",
     "output_type": "stream",
     "text": [
      "\u001b[92mINFO \u001b[0m:      aggregate_evaluate: received 3 results and 0 failures\n",
      "\u001b[93mWARNING \u001b[0m:   No evaluate_metrics_aggregation_fn provided\n",
      "\u001b[92mINFO \u001b[0m:      \n",
      "\u001b[92mINFO \u001b[0m:      [ROUND 2]\n",
      "\u001b[92mINFO \u001b[0m:      configure_fit: strategy sampled 3 clients (out of 10)\n"
     ]
    },
    {
     "name": "stdout",
     "output_type": "stream",
     "text": [
      "\u001b[36m(ClientAppActor pid=144503)\u001b[0m [Client 2] fit, config: {}\n",
      "\u001b[36m(ClientAppActor pid=144503)\u001b[0m Epoch 1: train loss 0.059500642120838165, accuracy 0.296\n",
      "\u001b[36m(ClientAppActor pid=144503)\u001b[0m [Client 5] fit, config: {}\n",
      "\u001b[36m(ClientAppActor pid=144503)\u001b[0m Epoch 1: train loss 0.059205763041973114, accuracy 0.28975\n",
      "\u001b[36m(ClientAppActor pid=144503)\u001b[0m [Client 9] fit, config: {}\n"
     ]
    },
    {
     "name": "stderr",
     "output_type": "stream",
     "text": [
      "\u001b[92mINFO \u001b[0m:      aggregate_fit: received 3 results and 0 failures\n",
      "\u001b[92mINFO \u001b[0m:      configure_evaluate: strategy sampled 3 clients (out of 10)\n"
     ]
    },
    {
     "name": "stdout",
     "output_type": "stream",
     "text": [
      "\u001b[36m(ClientAppActor pid=144503)\u001b[0m Epoch 1: train loss 0.05798201262950897, accuracy 0.328\n",
      "\u001b[36m(ClientAppActor pid=144503)\u001b[0m [Client 4] evaluate, config: {}\n",
      "\u001b[36m(ClientAppActor pid=144503)\u001b[0m [Client 5] evaluate, config: {}\n",
      "\u001b[36m(ClientAppActor pid=144503)\u001b[0m [Client 8] evaluate, config: {}\n"
     ]
    },
    {
     "name": "stderr",
     "output_type": "stream",
     "text": [
      "\u001b[92mINFO \u001b[0m:      aggregate_evaluate: received 3 results and 0 failures\n",
      "\u001b[92mINFO \u001b[0m:      \n",
      "\u001b[92mINFO \u001b[0m:      [ROUND 3]\n",
      "\u001b[92mINFO \u001b[0m:      configure_fit: strategy sampled 3 clients (out of 10)\n"
     ]
    },
    {
     "name": "stdout",
     "output_type": "stream",
     "text": [
      "\u001b[36m(ClientAppActor pid=144503)\u001b[0m [Client 2] fit, config: {}\n",
      "\u001b[36m(ClientAppActor pid=144503)\u001b[0m Epoch 1: train loss 0.05443347245454788, accuracy 0.3645\n",
      "\u001b[36m(ClientAppActor pid=144503)\u001b[0m [Client 6] fit, config: {}\n",
      "\u001b[36m(ClientAppActor pid=144503)\u001b[0m Epoch 1: train loss 0.053423840552568436, accuracy 0.37125\n",
      "\u001b[36m(ClientAppActor pid=144503)\u001b[0m [Client 8] fit, config: {}\n"
     ]
    },
    {
     "name": "stderr",
     "output_type": "stream",
     "text": [
      "\u001b[92mINFO \u001b[0m:      aggregate_fit: received 3 results and 0 failures\n",
      "\u001b[92mINFO \u001b[0m:      configure_evaluate: strategy sampled 3 clients (out of 10)\n"
     ]
    },
    {
     "name": "stdout",
     "output_type": "stream",
     "text": [
      "\u001b[36m(ClientAppActor pid=144503)\u001b[0m Epoch 1: train loss 0.05419186130166054, accuracy 0.37\n",
      "\u001b[36m(ClientAppActor pid=144503)\u001b[0m [Client 1] evaluate, config: {}\n",
      "\u001b[36m(ClientAppActor pid=144503)\u001b[0m [Client 5] evaluate, config: {}\n",
      "\u001b[36m(ClientAppActor pid=144503)\u001b[0m [Client 7] evaluate, config: {}\n"
     ]
    },
    {
     "name": "stderr",
     "output_type": "stream",
     "text": [
      "\u001b[92mINFO \u001b[0m:      aggregate_evaluate: received 3 results and 0 failures\n",
      "\u001b[92mINFO \u001b[0m:      \n",
      "\u001b[92mINFO \u001b[0m:      [SUMMARY]\n",
      "\u001b[92mINFO \u001b[0m:      Run finished 3 round(s) in 86.83s\n",
      "\u001b[92mINFO \u001b[0m:      \tHistory (loss, distributed):\n",
      "\u001b[92mINFO \u001b[0m:      \t\tround 1: 0.06311487909158071\n",
      "\u001b[92mINFO \u001b[0m:      \t\tround 2: 0.056315647681554164\n",
      "\u001b[92mINFO \u001b[0m:      \t\tround 3: 0.053133439938227334\n",
      "\u001b[92mINFO \u001b[0m:      \n"
     ]
    }
   ],
   "source": [
    "# Run simulation\n",
    "run_simulation(\n",
    "    server_app=server,\n",
    "    client_app=client,\n",
    "    num_supernodes=NUM_PARTITIONS,\n",
    "    backend_config=backend_config,\n",
    ")"
   ]
  },
  {
   "cell_type": "markdown",
   "id": "46b56436",
   "metadata": {},
   "source": [
    "### Sending/receiving arbitrary values to/from clients"
   ]
  },
  {
   "cell_type": "code",
   "execution_count": 13,
   "id": "aa04e02e",
   "metadata": {},
   "outputs": [],
   "source": [
    "class FlowerClient(NumPyClient):\n",
    "    def __init__(self, pid, net, trainloader, valloader):\n",
    "        self.pid = pid  # partition ID of a client\n",
    "        self.net = net\n",
    "        self.trainloader = trainloader\n",
    "        self.valloader = valloader\n",
    "\n",
    "    def get_parameters(self, config):\n",
    "        print(f\"[Client {self.pid}] get_parameters\")\n",
    "        return get_parameters(self.net)\n",
    "\n",
    "    def fit(self, parameters, config):\n",
    "        # Read values from config\n",
    "        server_round = config[\"server_round\"]\n",
    "        local_epochs = config[\"local_epochs\"]\n",
    "\n",
    "        # Use values provided by the config\n",
    "        print(f\"[Client {self.pid}, round {server_round}] fit, config: {config}\")\n",
    "        set_parameters(self.net, parameters)\n",
    "        train(self.net, self.trainloader, epochs=local_epochs)\n",
    "        return get_parameters(self.net), len(self.trainloader), {}\n",
    "\n",
    "    def evaluate(self, parameters, config):\n",
    "        print(f\"[Client {self.pid}] evaluate, config: {config}\")\n",
    "        set_parameters(self.net, parameters)\n",
    "        loss, accuracy = test(self.net, self.valloader)\n",
    "        return float(loss), len(self.valloader), {\"accuracy\": float(accuracy)}\n",
    "\n",
    "\n",
    "def client_fn(context: Context) -> Client:\n",
    "    net = Net().to(DEVICE)\n",
    "    partition_id = context.node_config[\"partition-id\"]\n",
    "    num_partitions = context.node_config[\"num-partitions\"]\n",
    "    trainloader, valloader, _ = load_datasets(partition_id, num_partitions)\n",
    "    return FlowerClient(partition_id, net, trainloader, valloader).to_client()\n",
    "\n",
    "\n",
    "# Create the ClientApp\n",
    "client = ClientApp(client_fn=client_fn)"
   ]
  },
  {
   "cell_type": "code",
   "execution_count": 14,
   "id": "f4a05bce",
   "metadata": {},
   "outputs": [],
   "source": [
    "def fit_config(server_round: int):\n",
    "    \"\"\"Return training configuration dict for each round.\n",
    "\n",
    "    Perform two rounds of training with one local epoch, increase to two local\n",
    "    epochs afterwards.\n",
    "    \"\"\"\n",
    "    config = {\n",
    "        \"server_round\": server_round,  # The current round of federated learning\n",
    "        \"local_epochs\": 1 if server_round < 2 else 2,\n",
    "    }\n",
    "    return config"
   ]
  },
  {
   "cell_type": "code",
   "execution_count": 15,
   "id": "66dc9a5e",
   "metadata": {},
   "outputs": [
    {
     "data": {
      "text/plain": [
       "'# Run simulation\\nrun_simulation(\\n    server_app=server,\\n    client_app=client,\\n    num_supernodes=NUM_PARTITIONS,\\n    backend_config=backend_config,\\n)\\n'"
      ]
     },
     "execution_count": 15,
     "metadata": {},
     "output_type": "execute_result"
    }
   ],
   "source": [
    "def server_fn(context: Context) -> ServerAppComponents:\n",
    "    # Create FedAvg strategy\n",
    "    strategy = FedAvg(\n",
    "        fraction_fit=0.3,\n",
    "        fraction_evaluate=0.3,\n",
    "        min_fit_clients=3,\n",
    "        min_evaluate_clients=3,\n",
    "        min_available_clients=NUM_PARTITIONS,\n",
    "        initial_parameters=ndarrays_to_parameters(params),\n",
    "        evaluate_fn=evaluate,\n",
    "        on_fit_config_fn=fit_config,  # Pass the fit_config function\n",
    "    )\n",
    "    config = ServerConfig(num_rounds=3)\n",
    "    return ServerAppComponents(strategy=strategy, config=config)\n",
    "\n",
    "\n",
    "# Create the ServerApp\n",
    "server = ServerApp(server_fn=server_fn)\n",
    "\"\"\"# Run simulation\n",
    "run_simulation(\n",
    "    server_app=server,\n",
    "    client_app=client,\n",
    "    num_supernodes=NUM_PARTITIONS,\n",
    "    backend_config=backend_config,\n",
    ")\n",
    "\"\"\""
   ]
  },
  {
   "cell_type": "markdown",
   "id": "3a39b022",
   "metadata": {},
   "source": [
    "### Scaling federated learning"
   ]
  },
  {
   "cell_type": "code",
   "execution_count": 16,
   "id": "317cd5b6",
   "metadata": {},
   "outputs": [],
   "source": [
    "NUM_PARTITIONS = 1000"
   ]
  },
  {
   "cell_type": "code",
   "execution_count": 17,
   "id": "b5183b56",
   "metadata": {},
   "outputs": [
    {
     "name": "stderr",
     "output_type": "stream",
     "text": [
      "\u001b[92mINFO \u001b[0m:      Starting Flower ServerApp, config: num_rounds=3, no round_timeout\n",
      "\u001b[92mINFO \u001b[0m:      \n",
      "\u001b[92mINFO \u001b[0m:      [INIT]\n",
      "\u001b[92mINFO \u001b[0m:      Using initial global parameters provided by strategy\n",
      "\u001b[92mINFO \u001b[0m:      Starting evaluation of initial global parameters\n",
      "\u001b[92mINFO \u001b[0m:      Evaluation returned no results (`None`)\n",
      "\u001b[92mINFO \u001b[0m:      \n",
      "\u001b[92mINFO \u001b[0m:      [ROUND 1]\n",
      "\u001b[92mINFO \u001b[0m:      configure_fit: strategy sampled 20 clients (out of 1000)\n"
     ]
    },
    {
     "name": "stdout",
     "output_type": "stream",
     "text": [
      "\u001b[36m(ClientAppActor pid=145791)\u001b[0m [Client 6, round 1] fit, config: {'server_round': 1, 'local_epochs': 3}\n",
      "\u001b[36m(ClientAppActor pid=145791)\u001b[0m Epoch 1: train loss 0.11524901539087296, accuracy 0.125\n",
      "\u001b[36m(ClientAppActor pid=145791)\u001b[0m Epoch 2: train loss 0.11437729746103287, accuracy 0.125\n",
      "\u001b[36m(ClientAppActor pid=145791)\u001b[0m Epoch 3: train loss 0.1138882040977478, accuracy 0.125\n",
      "\u001b[36m(ClientAppActor pid=145791)\u001b[0m [Client 21, round 1] fit, config: {'server_round': 1, 'local_epochs': 3}\n",
      "\u001b[36m(ClientAppActor pid=145791)\u001b[0m Epoch 1: train loss 0.11517267674207687, accuracy 0.2\n",
      "\u001b[36m(ClientAppActor pid=145791)\u001b[0m Epoch 2: train loss 0.1130889430642128, accuracy 0.2\n",
      "\u001b[36m(ClientAppActor pid=145791)\u001b[0m Epoch 3: train loss 0.11164098232984543, accuracy 0.2\n",
      "\u001b[36m(ClientAppActor pid=145791)\u001b[0m [Client 68, round 1] fit, config: {'server_round': 1, 'local_epochs': 3}\n",
      "\u001b[36m(ClientAppActor pid=145791)\u001b[0m Epoch 1: train loss 0.11540628969669342, accuracy 0.1\n",
      "\u001b[36m(ClientAppActor pid=145791)\u001b[0m Epoch 2: train loss 0.11517355591058731, accuracy 0.1\n",
      "\u001b[36m(ClientAppActor pid=145791)\u001b[0m Epoch 3: train loss 0.11494743824005127, accuracy 0.125\n",
      "\u001b[36m(ClientAppActor pid=145791)\u001b[0m [Client 185, round 1] fit, config: {'server_round': 1, 'local_epochs': 3}\n",
      "\u001b[36m(ClientAppActor pid=145791)\u001b[0m Epoch 1: train loss 0.11590244621038437, accuracy 0.025\n",
      "\u001b[36m(ClientAppActor pid=145791)\u001b[0m Epoch 2: train loss 0.11547477543354034, accuracy 0.05\n",
      "\u001b[36m(ClientAppActor pid=145791)\u001b[0m Epoch 3: train loss 0.1139904037117958, accuracy 0.275\n",
      "\u001b[36m(ClientAppActor pid=145791)\u001b[0m [Client 194, round 1] fit, config: {'server_round': 1, 'local_epochs': 3}\n",
      "\u001b[36m(ClientAppActor pid=145791)\u001b[0m Epoch 1: train loss 0.11430671066045761, accuracy 0.15\n",
      "\u001b[36m(ClientAppActor pid=145791)\u001b[0m Epoch 2: train loss 0.11358930915594101, accuracy 0.15\n",
      "\u001b[36m(ClientAppActor pid=145791)\u001b[0m Epoch 3: train loss 0.11246704310178757, accuracy 0.15\n",
      "\u001b[36m(ClientAppActor pid=145791)\u001b[0m [Client 226, round 1] fit, config: {'server_round': 1, 'local_epochs': 3}\n",
      "\u001b[36m(ClientAppActor pid=145791)\u001b[0m Epoch 1: train loss 0.11516058444976807, accuracy 0.075\n",
      "\u001b[36m(ClientAppActor pid=145791)\u001b[0m Epoch 2: train loss 0.11497213691473007, accuracy 0.1\n",
      "\u001b[36m(ClientAppActor pid=145791)\u001b[0m Epoch 3: train loss 0.11432383209466934, accuracy 0.2\n",
      "\u001b[36m(ClientAppActor pid=145791)\u001b[0m [Client 248, round 1] fit, config: {'server_round': 1, 'local_epochs': 3}\n",
      "\u001b[36m(ClientAppActor pid=145791)\u001b[0m Epoch 1: train loss 0.1154969334602356, accuracy 0.125\n",
      "\u001b[36m(ClientAppActor pid=145791)\u001b[0m Epoch 2: train loss 0.11420468240976334, accuracy 0.125\n",
      "\u001b[36m(ClientAppActor pid=145791)\u001b[0m Epoch 3: train loss 0.11344432830810547, accuracy 0.125\n",
      "\u001b[36m(ClientAppActor pid=145791)\u001b[0m [Client 254, round 1] fit, config: {'server_round': 1, 'local_epochs': 3}\n",
      "\u001b[36m(ClientAppActor pid=145791)\u001b[0m Epoch 1: train loss 0.11497271060943604, accuracy 0.125\n",
      "\u001b[36m(ClientAppActor pid=145791)\u001b[0m Epoch 2: train loss 0.11413571983575821, accuracy 0.125\n",
      "\u001b[36m(ClientAppActor pid=145791)\u001b[0m Epoch 3: train loss 0.11210892349481583, accuracy 0.125\n",
      "\u001b[36m(ClientAppActor pid=145791)\u001b[0m [Client 295, round 1] fit, config: {'server_round': 1, 'local_epochs': 3}\n",
      "\u001b[36m(ClientAppActor pid=145791)\u001b[0m Epoch 1: train loss 0.11483252048492432, accuracy 0.175\n",
      "\u001b[36m(ClientAppActor pid=145791)\u001b[0m Epoch 2: train loss 0.11289536952972412, accuracy 0.175\n",
      "\u001b[36m(ClientAppActor pid=145791)\u001b[0m Epoch 3: train loss 0.11452773958444595, accuracy 0.175\n",
      "\u001b[36m(ClientAppActor pid=145791)\u001b[0m [Client 300, round 1] fit, config: {'server_round': 1, 'local_epochs': 3}\n",
      "\u001b[36m(ClientAppActor pid=145791)\u001b[0m Epoch 1: train loss 0.1149933859705925, accuracy 0.1\n",
      "\u001b[36m(ClientAppActor pid=145791)\u001b[0m Epoch 2: train loss 0.11389048397541046, accuracy 0.1\n",
      "\u001b[36m(ClientAppActor pid=145791)\u001b[0m Epoch 3: train loss 0.11384697258472443, accuracy 0.1\n",
      "\u001b[36m(ClientAppActor pid=145791)\u001b[0m [Client 312, round 1] fit, config: {'server_round': 1, 'local_epochs': 3}\n",
      "\u001b[36m(ClientAppActor pid=145791)\u001b[0m Epoch 1: train loss 0.11458756029605865, accuracy 0.075\n",
      "\u001b[36m(ClientAppActor pid=145791)\u001b[0m Epoch 2: train loss 0.11416616290807724, accuracy 0.075\n",
      "\u001b[36m(ClientAppActor pid=145791)\u001b[0m Epoch 3: train loss 0.11402590572834015, accuracy 0.15\n",
      "\u001b[36m(ClientAppActor pid=145791)\u001b[0m [Client 465, round 1] fit, config: {'server_round': 1, 'local_epochs': 3}\n",
      "\u001b[36m(ClientAppActor pid=145791)\u001b[0m Epoch 1: train loss 0.11484863609075546, accuracy 0.175\n",
      "\u001b[36m(ClientAppActor pid=145791)\u001b[0m Epoch 2: train loss 0.11470699310302734, accuracy 0.175\n",
      "\u001b[36m(ClientAppActor pid=145791)\u001b[0m Epoch 3: train loss 0.11257778853178024, accuracy 0.175\n",
      "\u001b[36m(ClientAppActor pid=145791)\u001b[0m [Client 564, round 1] fit, config: {'server_round': 1, 'local_epochs': 3}\n",
      "\u001b[36m(ClientAppActor pid=145791)\u001b[0m Epoch 1: train loss 0.11655671894550323, accuracy 0.1\n",
      "\u001b[36m(ClientAppActor pid=145791)\u001b[0m Epoch 2: train loss 0.11465401947498322, accuracy 0.1\n",
      "\u001b[36m(ClientAppActor pid=145791)\u001b[0m Epoch 3: train loss 0.11369388550519943, accuracy 0.1\n",
      "\u001b[36m(ClientAppActor pid=145791)\u001b[0m [Client 627, round 1] fit, config: {'server_round': 1, 'local_epochs': 3}\n",
      "\u001b[36m(ClientAppActor pid=145791)\u001b[0m Epoch 1: train loss 0.11633453518152237, accuracy 0.025\n",
      "\u001b[36m(ClientAppActor pid=145791)\u001b[0m Epoch 2: train loss 0.11433553695678711, accuracy 0.1\n",
      "\u001b[36m(ClientAppActor pid=145791)\u001b[0m Epoch 3: train loss 0.11325269937515259, accuracy 0.175\n",
      "\u001b[36m(ClientAppActor pid=145791)\u001b[0m [Client 663, round 1] fit, config: {'server_round': 1, 'local_epochs': 3}\n",
      "\u001b[36m(ClientAppActor pid=145791)\u001b[0m Epoch 1: train loss 0.115183524787426, accuracy 0.175\n",
      "\u001b[36m(ClientAppActor pid=145791)\u001b[0m Epoch 2: train loss 0.1139945536851883, accuracy 0.175\n",
      "\u001b[36m(ClientAppActor pid=145791)\u001b[0m Epoch 3: train loss 0.11207838356494904, accuracy 0.175\n",
      "\u001b[36m(ClientAppActor pid=145791)\u001b[0m [Client 681, round 1] fit, config: {'server_round': 1, 'local_epochs': 3}\n",
      "\u001b[36m(ClientAppActor pid=145791)\u001b[0m Epoch 1: train loss 0.11554719507694244, accuracy 0.075\n",
      "\u001b[36m(ClientAppActor pid=145791)\u001b[0m Epoch 2: train loss 0.11383414268493652, accuracy 0.075\n",
      "\u001b[36m(ClientAppActor pid=145791)\u001b[0m Epoch 3: train loss 0.11456248909235, accuracy 0.075\n",
      "\u001b[36m(ClientAppActor pid=145791)\u001b[0m [Client 845, round 1] fit, config: {'server_round': 1, 'local_epochs': 3}\n",
      "\u001b[36m(ClientAppActor pid=145791)\u001b[0m Epoch 1: train loss 0.11532080173492432, accuracy 0.125\n",
      "\u001b[36m(ClientAppActor pid=145791)\u001b[0m Epoch 2: train loss 0.11453511565923691, accuracy 0.125\n",
      "\u001b[36m(ClientAppActor pid=145791)\u001b[0m Epoch 3: train loss 0.11417484283447266, accuracy 0.125\n",
      "\u001b[36m(ClientAppActor pid=145791)\u001b[0m [Client 852, round 1] fit, config: {'server_round': 1, 'local_epochs': 3}\n",
      "\u001b[36m(ClientAppActor pid=145791)\u001b[0m Epoch 1: train loss 0.11610033363103867, accuracy 0.1\n",
      "\u001b[36m(ClientAppActor pid=145791)\u001b[0m Epoch 2: train loss 0.11481485515832901, accuracy 0.1\n",
      "\u001b[36m(ClientAppActor pid=145791)\u001b[0m Epoch 3: train loss 0.11468308418989182, accuracy 0.175\n",
      "\u001b[36m(ClientAppActor pid=145791)\u001b[0m [Client 894, round 1] fit, config: {'server_round': 1, 'local_epochs': 3}\n",
      "\u001b[36m(ClientAppActor pid=145791)\u001b[0m Epoch 1: train loss 0.1150335818529129, accuracy 0.05\n",
      "\u001b[36m(ClientAppActor pid=145791)\u001b[0m Epoch 2: train loss 0.11533500999212265, accuracy 0.05\n",
      "\u001b[36m(ClientAppActor pid=145791)\u001b[0m Epoch 3: train loss 0.11446154117584229, accuracy 0.075\n"
     ]
    },
    {
     "name": "stderr",
     "output_type": "stream",
     "text": [
      "\u001b[92mINFO \u001b[0m:      aggregate_fit: received 20 results and 0 failures\n",
      "\u001b[93mWARNING \u001b[0m:   No fit_metrics_aggregation_fn provided\n",
      "\u001b[92mINFO \u001b[0m:      configure_evaluate: strategy sampled 50 clients (out of 1000)\n"
     ]
    },
    {
     "name": "stdout",
     "output_type": "stream",
     "text": [
      "\u001b[36m(ClientAppActor pid=145791)\u001b[0m [Client 994, round 1] fit, config: {'server_round': 1, 'local_epochs': 3}\n",
      "\u001b[36m(ClientAppActor pid=145791)\u001b[0m Epoch 1: train loss 0.11426031589508057, accuracy 0.1\n",
      "\u001b[36m(ClientAppActor pid=145791)\u001b[0m Epoch 2: train loss 0.11396493762731552, accuracy 0.1\n",
      "\u001b[36m(ClientAppActor pid=145791)\u001b[0m Epoch 3: train loss 0.11276853084564209, accuracy 0.2\n",
      "\u001b[36m(ClientAppActor pid=145791)\u001b[0m [Client 2] evaluate, config: {}\n",
      "\u001b[36m(ClientAppActor pid=145791)\u001b[0m [Client 3] evaluate, config: {}\n",
      "\u001b[36m(ClientAppActor pid=145791)\u001b[0m [Client 15] evaluate, config: {}\n",
      "\u001b[36m(ClientAppActor pid=145791)\u001b[0m [Client 36] evaluate, config: {}\n",
      "\u001b[36m(ClientAppActor pid=145791)\u001b[0m [Client 274] evaluate, config: {}\n",
      "\u001b[36m(ClientAppActor pid=145791)\u001b[0m [Client 282] evaluate, config: {}\n",
      "\u001b[36m(ClientAppActor pid=145791)\u001b[0m [Client 319] evaluate, config: {}\n",
      "\u001b[36m(ClientAppActor pid=145791)\u001b[0m [Client 328] evaluate, config: {}\n",
      "\u001b[36m(ClientAppActor pid=145791)\u001b[0m [Client 410] evaluate, config: {}\n",
      "\u001b[36m(ClientAppActor pid=145791)\u001b[0m [Client 524] evaluate, config: {}\n",
      "\u001b[36m(ClientAppActor pid=145791)\u001b[0m [Client 549] evaluate, config: {}\n",
      "\u001b[36m(ClientAppActor pid=145791)\u001b[0m [Client 559] evaluate, config: {}\n",
      "\u001b[36m(ClientAppActor pid=145791)\u001b[0m [Client 742] evaluate, config: {}\n",
      "\u001b[36m(ClientAppActor pid=145791)\u001b[0m [Client 771] evaluate, config: {}\n",
      "\u001b[36m(ClientAppActor pid=145791)\u001b[0m [Client 779] evaluate, config: {}\n",
      "\u001b[36m(ClientAppActor pid=145791)\u001b[0m [Client 812] evaluate, config: {}\n",
      "\u001b[36m(ClientAppActor pid=145791)\u001b[0m [Client 847] evaluate, config: {}\n",
      "\u001b[36m(ClientAppActor pid=145791)\u001b[0m [Client 854] evaluate, config: {}\n",
      "\u001b[36m(ClientAppActor pid=145791)\u001b[0m [Client 867] evaluate, config: {}\n",
      "\u001b[36m(ClientAppActor pid=145791)\u001b[0m [Client 876] evaluate, config: {}\n",
      "\u001b[36m(ClientAppActor pid=145791)\u001b[0m [Client 773] evaluate, config: {}\n",
      "\u001b[36m(ClientAppActor pid=145791)\u001b[0m [Client 712] evaluate, config: {}\n",
      "\u001b[36m(ClientAppActor pid=145791)\u001b[0m [Client 912] evaluate, config: {}\n",
      "\u001b[36m(ClientAppActor pid=145791)\u001b[0m [Client 582] evaluate, config: {}\n",
      "\u001b[36m(ClientAppActor pid=145791)\u001b[0m [Client 981] evaluate, config: {}\n",
      "\u001b[36m(ClientAppActor pid=145791)\u001b[0m [Client 387] evaluate, config: {}\n",
      "\u001b[36m(ClientAppActor pid=145791)\u001b[0m [Client 658] evaluate, config: {}\n",
      "\u001b[36m(ClientAppActor pid=145791)\u001b[0m [Client 815] evaluate, config: {}\n",
      "\u001b[36m(ClientAppActor pid=145791)\u001b[0m [Client 722] evaluate, config: {}\n",
      "\u001b[36m(ClientAppActor pid=145791)\u001b[0m [Client 523] evaluate, config: {}\n",
      "\u001b[36m(ClientAppActor pid=145791)\u001b[0m [Client 609] evaluate, config: {}\n",
      "\u001b[36m(ClientAppActor pid=145791)\u001b[0m [Client 599] evaluate, config: {}\n",
      "\u001b[36m(ClientAppActor pid=145791)\u001b[0m [Client 757] evaluate, config: {}\n",
      "\u001b[36m(ClientAppActor pid=145791)\u001b[0m [Client 266] evaluate, config: {}\n",
      "\u001b[36m(ClientAppActor pid=145791)\u001b[0m [Client 824] evaluate, config: {}\n",
      "\u001b[36m(ClientAppActor pid=145791)\u001b[0m [Client 998] evaluate, config: {}\n",
      "\u001b[36m(ClientAppActor pid=145791)\u001b[0m [Client 96] evaluate, config: {}\n",
      "\u001b[36m(ClientAppActor pid=145791)\u001b[0m [Client 86] evaluate, config: {}\n",
      "\u001b[36m(ClientAppActor pid=145791)\u001b[0m [Client 835] evaluate, config: {}\n",
      "\u001b[36m(ClientAppActor pid=145791)\u001b[0m [Client 728] evaluate, config: {}\n",
      "\u001b[36m(ClientAppActor pid=145791)\u001b[0m [Client 498] evaluate, config: {}\n",
      "\u001b[36m(ClientAppActor pid=145791)\u001b[0m [Client 859] evaluate, config: {}\n",
      "\u001b[36m(ClientAppActor pid=145791)\u001b[0m [Client 615] evaluate, config: {}\n",
      "\u001b[36m(ClientAppActor pid=145791)\u001b[0m [Client 823] evaluate, config: {}\n",
      "\u001b[36m(ClientAppActor pid=145791)\u001b[0m [Client 403] evaluate, config: {}\n",
      "\u001b[36m(ClientAppActor pid=145791)\u001b[0m [Client 655] evaluate, config: {}\n",
      "\u001b[36m(ClientAppActor pid=145791)\u001b[0m [Client 143] evaluate, config: {}\n",
      "\u001b[36m(ClientAppActor pid=145791)\u001b[0m [Client 837] evaluate, config: {}\n",
      "\u001b[36m(ClientAppActor pid=145791)\u001b[0m [Client 975] evaluate, config: {}\n"
     ]
    },
    {
     "name": "stderr",
     "output_type": "stream",
     "text": [
      "\u001b[92mINFO \u001b[0m:      aggregate_evaluate: received 50 results and 0 failures\n",
      "\u001b[93mWARNING \u001b[0m:   No evaluate_metrics_aggregation_fn provided\n",
      "\u001b[92mINFO \u001b[0m:      \n",
      "\u001b[92mINFO \u001b[0m:      [ROUND 2]\n",
      "\u001b[92mINFO \u001b[0m:      configure_fit: strategy sampled 25 clients (out of 1000)\n"
     ]
    },
    {
     "name": "stdout",
     "output_type": "stream",
     "text": [
      "\u001b[36m(ClientAppActor pid=145791)\u001b[0m [Client 212] evaluate, config: {}\n",
      "\u001b[36m(ClientAppActor pid=145791)\u001b[0m [Client 217, round 2] fit, config: {'server_round': 2, 'local_epochs': 3}\n",
      "\u001b[36m(ClientAppActor pid=145791)\u001b[0m Epoch 1: train loss 0.11544045060873032, accuracy 0.1\n",
      "\u001b[36m(ClientAppActor pid=145791)\u001b[0m Epoch 2: train loss 0.11386077851057053, accuracy 0.1\n",
      "\u001b[36m(ClientAppActor pid=145791)\u001b[0m Epoch 3: train loss 0.11296092718839645, accuracy 0.125\n",
      "\u001b[36m(ClientAppActor pid=145791)\u001b[0m [Client 220, round 2] fit, config: {'server_round': 2, 'local_epochs': 3}\n",
      "\u001b[36m(ClientAppActor pid=145791)\u001b[0m Epoch 1: train loss 0.11475949734449387, accuracy 0.075\n",
      "\u001b[36m(ClientAppActor pid=145791)\u001b[0m Epoch 2: train loss 0.11365550011396408, accuracy 0.075\n",
      "\u001b[36m(ClientAppActor pid=145791)\u001b[0m Epoch 3: train loss 0.11274579912424088, accuracy 0.1\n",
      "\u001b[36m(ClientAppActor pid=145791)\u001b[0m [Client 240, round 2] fit, config: {'server_round': 2, 'local_epochs': 3}\n",
      "\u001b[36m(ClientAppActor pid=145791)\u001b[0m Epoch 1: train loss 0.1150841936469078, accuracy 0.1\n",
      "\u001b[36m(ClientAppActor pid=145791)\u001b[0m Epoch 2: train loss 0.11375673115253448, accuracy 0.125\n",
      "\u001b[36m(ClientAppActor pid=145791)\u001b[0m Epoch 3: train loss 0.1125844269990921, accuracy 0.175\n",
      "\u001b[36m(ClientAppActor pid=145791)\u001b[0m [Client 465, round 2] fit, config: {'server_round': 2, 'local_epochs': 3}\n",
      "\u001b[36m(ClientAppActor pid=145791)\u001b[0m Epoch 1: train loss 0.11475308239459991, accuracy 0.175\n",
      "\u001b[36m(ClientAppActor pid=145791)\u001b[0m Epoch 2: train loss 0.1131582260131836, accuracy 0.175\n",
      "\u001b[36m(ClientAppActor pid=145791)\u001b[0m Epoch 3: train loss 0.11057539284229279, accuracy 0.175\n",
      "\u001b[36m(ClientAppActor pid=145791)\u001b[0m [Client 519, round 2] fit, config: {'server_round': 2, 'local_epochs': 3}\n",
      "\u001b[36m(ClientAppActor pid=145791)\u001b[0m Epoch 1: train loss 0.11551985889673233, accuracy 0.1\n",
      "\u001b[36m(ClientAppActor pid=145791)\u001b[0m Epoch 2: train loss 0.11343332380056381, accuracy 0.1\n",
      "\u001b[36m(ClientAppActor pid=145791)\u001b[0m Epoch 3: train loss 0.11267933994531631, accuracy 0.1\n",
      "\u001b[36m(ClientAppActor pid=145791)\u001b[0m [Client 580, round 2] fit, config: {'server_round': 2, 'local_epochs': 3}\n",
      "\u001b[36m(ClientAppActor pid=145791)\u001b[0m Epoch 1: train loss 0.11564600467681885, accuracy 0.1\n",
      "\u001b[36m(ClientAppActor pid=145791)\u001b[0m Epoch 2: train loss 0.11400999873876572, accuracy 0.175\n",
      "\u001b[36m(ClientAppActor pid=145791)\u001b[0m Epoch 3: train loss 0.1146935224533081, accuracy 0.225\n",
      "\u001b[36m(ClientAppActor pid=145791)\u001b[0m [Client 614, round 2] fit, config: {'server_round': 2, 'local_epochs': 3}\n",
      "\u001b[36m(ClientAppActor pid=145791)\u001b[0m Epoch 1: train loss 0.11503095924854279, accuracy 0.05\n",
      "\u001b[36m(ClientAppActor pid=145791)\u001b[0m Epoch 2: train loss 0.11263597011566162, accuracy 0.125\n",
      "\u001b[36m(ClientAppActor pid=145791)\u001b[0m Epoch 3: train loss 0.11180403083562851, accuracy 0.225\n",
      "\u001b[36m(ClientAppActor pid=145791)\u001b[0m [Client 628, round 2] fit, config: {'server_round': 2, 'local_epochs': 3}\n",
      "\u001b[36m(ClientAppActor pid=145791)\u001b[0m Epoch 1: train loss 0.11527090519666672, accuracy 0.1\n",
      "\u001b[36m(ClientAppActor pid=145791)\u001b[0m Epoch 2: train loss 0.11379843205213547, accuracy 0.1\n",
      "\u001b[36m(ClientAppActor pid=145791)\u001b[0m Epoch 3: train loss 0.1131499633193016, accuracy 0.1\n",
      "\u001b[36m(ClientAppActor pid=145791)\u001b[0m [Client 639, round 2] fit, config: {'server_round': 2, 'local_epochs': 3}\n",
      "\u001b[36m(ClientAppActor pid=145791)\u001b[0m Epoch 1: train loss 0.11392354965209961, accuracy 0.15\n",
      "\u001b[36m(ClientAppActor pid=145791)\u001b[0m Epoch 2: train loss 0.11262233555316925, accuracy 0.15\n",
      "\u001b[36m(ClientAppActor pid=145791)\u001b[0m Epoch 3: train loss 0.11157329380512238, accuracy 0.15\n",
      "\u001b[36m(ClientAppActor pid=145791)\u001b[0m [Client 731, round 2] fit, config: {'server_round': 2, 'local_epochs': 3}\n",
      "\u001b[36m(ClientAppActor pid=145791)\u001b[0m Epoch 1: train loss 0.11434316635131836, accuracy 0.15\n",
      "\u001b[36m(ClientAppActor pid=145791)\u001b[0m Epoch 2: train loss 0.11288221180438995, accuracy 0.15\n",
      "\u001b[36m(ClientAppActor pid=145791)\u001b[0m Epoch 3: train loss 0.11112158745527267, accuracy 0.15\n",
      "\u001b[36m(ClientAppActor pid=145791)\u001b[0m [Client 792, round 2] fit, config: {'server_round': 2, 'local_epochs': 3}\n",
      "\u001b[36m(ClientAppActor pid=145791)\u001b[0m Epoch 1: train loss 0.11531298607587814, accuracy 0.125\n",
      "\u001b[36m(ClientAppActor pid=145791)\u001b[0m Epoch 2: train loss 0.11342339962720871, accuracy 0.125\n",
      "\u001b[36m(ClientAppActor pid=145791)\u001b[0m Epoch 3: train loss 0.11264820396900177, accuracy 0.125\n",
      "\u001b[36m(ClientAppActor pid=145791)\u001b[0m [Client 838, round 2] fit, config: {'server_round': 2, 'local_epochs': 3}\n",
      "\u001b[36m(ClientAppActor pid=145791)\u001b[0m Epoch 1: train loss 0.11538337916135788, accuracy 0.075\n",
      "\u001b[36m(ClientAppActor pid=145791)\u001b[0m Epoch 2: train loss 0.11453288048505783, accuracy 0.075\n",
      "\u001b[36m(ClientAppActor pid=145791)\u001b[0m Epoch 3: train loss 0.11430108547210693, accuracy 0.075\n",
      "\u001b[36m(ClientAppActor pid=145791)\u001b[0m [Client 887, round 2] fit, config: {'server_round': 2, 'local_epochs': 3}\n",
      "\u001b[36m(ClientAppActor pid=145791)\u001b[0m Epoch 1: train loss 0.11473467200994492, accuracy 0.125\n",
      "\u001b[36m(ClientAppActor pid=145791)\u001b[0m Epoch 2: train loss 0.11461342871189117, accuracy 0.125\n",
      "\u001b[36m(ClientAppActor pid=145791)\u001b[0m Epoch 3: train loss 0.11225380748510361, accuracy 0.125\n",
      "\u001b[36m(ClientAppActor pid=145791)\u001b[0m [Client 7, round 2] fit, config: {'server_round': 2, 'local_epochs': 3}\n",
      "\u001b[36m(ClientAppActor pid=145791)\u001b[0m Epoch 1: train loss 0.11411669105291367, accuracy 0.175\n",
      "\u001b[36m(ClientAppActor pid=145791)\u001b[0m Epoch 2: train loss 0.11296778172254562, accuracy 0.175\n",
      "\u001b[36m(ClientAppActor pid=145791)\u001b[0m Epoch 3: train loss 0.11205249279737473, accuracy 0.175\n",
      "\u001b[36m(ClientAppActor pid=145791)\u001b[0m [Client 112, round 2] fit, config: {'server_round': 2, 'local_epochs': 3}\n",
      "\u001b[36m(ClientAppActor pid=145791)\u001b[0m Epoch 1: train loss 0.11545868217945099, accuracy 0.125\n",
      "\u001b[36m(ClientAppActor pid=145791)\u001b[0m Epoch 2: train loss 0.11449146270751953, accuracy 0.125\n",
      "\u001b[36m(ClientAppActor pid=145791)\u001b[0m Epoch 3: train loss 0.11424911022186279, accuracy 0.175\n",
      "\u001b[36m(ClientAppActor pid=145791)\u001b[0m [Client 321, round 2] fit, config: {'server_round': 2, 'local_epochs': 3}\n",
      "\u001b[36m(ClientAppActor pid=145791)\u001b[0m Epoch 1: train loss 0.1153673455119133, accuracy 0.075\n",
      "\u001b[36m(ClientAppActor pid=145791)\u001b[0m Epoch 2: train loss 0.11462181061506271, accuracy 0.1\n",
      "\u001b[36m(ClientAppActor pid=145791)\u001b[0m Epoch 3: train loss 0.11384730786085129, accuracy 0.175\n",
      "\u001b[36m(ClientAppActor pid=145791)\u001b[0m [Client 464, round 2] fit, config: {'server_round': 2, 'local_epochs': 3}\n",
      "\u001b[36m(ClientAppActor pid=145791)\u001b[0m Epoch 1: train loss 0.11549168825149536, accuracy 0.05\n",
      "\u001b[36m(ClientAppActor pid=145791)\u001b[0m Epoch 2: train loss 0.11443223059177399, accuracy 0.05\n",
      "\u001b[36m(ClientAppActor pid=145791)\u001b[0m Epoch 3: train loss 0.11336836963891983, accuracy 0.1\n",
      "\u001b[36m(ClientAppActor pid=145791)\u001b[0m [Client 509, round 2] fit, config: {'server_round': 2, 'local_epochs': 3}\n",
      "\u001b[36m(ClientAppActor pid=145791)\u001b[0m Epoch 1: train loss 0.11599946022033691, accuracy 0.1\n",
      "\u001b[36m(ClientAppActor pid=145791)\u001b[0m Epoch 2: train loss 0.11490850895643234, accuracy 0.1\n",
      "\u001b[36m(ClientAppActor pid=145791)\u001b[0m Epoch 3: train loss 0.11323871463537216, accuracy 0.125\n",
      "\u001b[36m(ClientAppActor pid=145791)\u001b[0m [Client 568, round 2] fit, config: {'server_round': 2, 'local_epochs': 3}\n",
      "\u001b[36m(ClientAppActor pid=145791)\u001b[0m Epoch 1: train loss 0.11454824358224869, accuracy 0.075\n",
      "\u001b[36m(ClientAppActor pid=145791)\u001b[0m Epoch 2: train loss 0.1142541915178299, accuracy 0.15\n",
      "\u001b[36m(ClientAppActor pid=145791)\u001b[0m Epoch 3: train loss 0.11339733749628067, accuracy 0.225\n",
      "\u001b[36m(ClientAppActor pid=145791)\u001b[0m [Client 854, round 2] fit, config: {'server_round': 2, 'local_epochs': 3}\n",
      "\u001b[36m(ClientAppActor pid=145791)\u001b[0m Epoch 1: train loss 0.11554646492004395, accuracy 0.1\n",
      "\u001b[36m(ClientAppActor pid=145791)\u001b[0m Epoch 2: train loss 0.11429240554571152, accuracy 0.1\n",
      "\u001b[36m(ClientAppActor pid=145791)\u001b[0m Epoch 3: train loss 0.11228952556848526, accuracy 0.1\n",
      "\u001b[36m(ClientAppActor pid=145791)\u001b[0m [Client 610, round 2] fit, config: {'server_round': 2, 'local_epochs': 3}\n",
      "\u001b[36m(ClientAppActor pid=145791)\u001b[0m Epoch 1: train loss 0.11498361080884933, accuracy 0.1\n",
      "\u001b[36m(ClientAppActor pid=145791)\u001b[0m Epoch 2: train loss 0.11339151859283447, accuracy 0.1\n",
      "\u001b[36m(ClientAppActor pid=145791)\u001b[0m Epoch 3: train loss 0.11341040581464767, accuracy 0.1\n",
      "\u001b[36m(ClientAppActor pid=145791)\u001b[0m [Client 918, round 2] fit, config: {'server_round': 2, 'local_epochs': 3}\n",
      "\u001b[36m(ClientAppActor pid=145791)\u001b[0m Epoch 1: train loss 0.1155165582895279, accuracy 0.1\n",
      "\u001b[36m(ClientAppActor pid=145791)\u001b[0m Epoch 2: train loss 0.11301765590906143, accuracy 0.1\n",
      "\u001b[36m(ClientAppActor pid=145791)\u001b[0m Epoch 3: train loss 0.11245117336511612, accuracy 0.2\n",
      "\u001b[36m(ClientAppActor pid=145791)\u001b[0m [Client 324, round 2] fit, config: {'server_round': 2, 'local_epochs': 3}\n",
      "\u001b[36m(ClientAppActor pid=145791)\u001b[0m Epoch 1: train loss 0.11479810625314713, accuracy 0.05\n",
      "\u001b[36m(ClientAppActor pid=145791)\u001b[0m Epoch 2: train loss 0.11376078426837921, accuracy 0.2\n",
      "\u001b[36m(ClientAppActor pid=145791)\u001b[0m Epoch 3: train loss 0.11225185543298721, accuracy 0.175\n",
      "\u001b[36m(ClientAppActor pid=145791)\u001b[0m [Client 113, round 2] fit, config: {'server_round': 2, 'local_epochs': 3}\n",
      "\u001b[36m(ClientAppActor pid=145791)\u001b[0m Epoch 1: train loss 0.11304374039173126, accuracy 0.25\n",
      "\u001b[36m(ClientAppActor pid=145791)\u001b[0m Epoch 2: train loss 0.11112643778324127, accuracy 0.25\n",
      "\u001b[36m(ClientAppActor pid=145791)\u001b[0m Epoch 3: train loss 0.11319899559020996, accuracy 0.25\n"
     ]
    },
    {
     "name": "stderr",
     "output_type": "stream",
     "text": [
      "\u001b[92mINFO \u001b[0m:      aggregate_fit: received 25 results and 0 failures\n",
      "\u001b[92mINFO \u001b[0m:      configure_evaluate: strategy sampled 50 clients (out of 1000)\n"
     ]
    },
    {
     "name": "stdout",
     "output_type": "stream",
     "text": [
      "\u001b[36m(ClientAppActor pid=145791)\u001b[0m [Client 765, round 2] fit, config: {'server_round': 2, 'local_epochs': 3}\n",
      "\u001b[36m(ClientAppActor pid=145791)\u001b[0m Epoch 1: train loss 0.11441119015216827, accuracy 0.15\n",
      "\u001b[36m(ClientAppActor pid=145791)\u001b[0m Epoch 2: train loss 0.11455817520618439, accuracy 0.15\n",
      "\u001b[36m(ClientAppActor pid=145791)\u001b[0m Epoch 3: train loss 0.11151323467493057, accuracy 0.15\n",
      "\u001b[36m(ClientAppActor pid=145791)\u001b[0m [Client 176] evaluate, config: {}\n",
      "\u001b[36m(ClientAppActor pid=145791)\u001b[0m [Client 288] evaluate, config: {}\n",
      "\u001b[36m(ClientAppActor pid=145791)\u001b[0m [Client 332] evaluate, config: {}\n",
      "\u001b[36m(ClientAppActor pid=145791)\u001b[0m [Client 351] evaluate, config: {}\n",
      "\u001b[36m(ClientAppActor pid=145791)\u001b[0m [Client 418] evaluate, config: {}\n",
      "\u001b[36m(ClientAppActor pid=145791)\u001b[0m [Client 490] evaluate, config: {}\n",
      "\u001b[36m(ClientAppActor pid=145791)\u001b[0m [Client 502] evaluate, config: {}\n",
      "\u001b[36m(ClientAppActor pid=145791)\u001b[0m [Client 588] evaluate, config: {}\n",
      "\u001b[36m(ClientAppActor pid=145791)\u001b[0m [Client 595] evaluate, config: {}\n",
      "\u001b[36m(ClientAppActor pid=145791)\u001b[0m [Client 611] evaluate, config: {}\n",
      "\u001b[36m(ClientAppActor pid=145791)\u001b[0m [Client 625] evaluate, config: {}\n",
      "\u001b[36m(ClientAppActor pid=145791)\u001b[0m [Client 639] evaluate, config: {}\n",
      "\u001b[36m(ClientAppActor pid=145791)\u001b[0m [Client 680] evaluate, config: {}\n",
      "\u001b[36m(ClientAppActor pid=145791)\u001b[0m [Client 788] evaluate, config: {}\n",
      "\u001b[36m(ClientAppActor pid=145791)\u001b[0m [Client 802] evaluate, config: {}\n",
      "\u001b[36m(ClientAppActor pid=145791)\u001b[0m [Client 844] evaluate, config: {}\n",
      "\u001b[36m(ClientAppActor pid=145791)\u001b[0m [Client 880] evaluate, config: {}\n",
      "\u001b[36m(ClientAppActor pid=145791)\u001b[0m [Client 890] evaluate, config: {}\n",
      "\u001b[36m(ClientAppActor pid=145791)\u001b[0m [Client 950] evaluate, config: {}\n",
      "\u001b[36m(ClientAppActor pid=145791)\u001b[0m [Client 961] evaluate, config: {}\n",
      "\u001b[36m(ClientAppActor pid=145791)\u001b[0m [Client 31] evaluate, config: {}\n",
      "\u001b[36m(ClientAppActor pid=145791)\u001b[0m [Client 673] evaluate, config: {}\n",
      "\u001b[36m(ClientAppActor pid=145791)\u001b[0m [Client 4] evaluate, config: {}\n",
      "\u001b[36m(ClientAppActor pid=145791)\u001b[0m [Client 526] evaluate, config: {}\n",
      "\u001b[36m(ClientAppActor pid=145791)\u001b[0m [Client 186] evaluate, config: {}\n",
      "\u001b[36m(ClientAppActor pid=145791)\u001b[0m [Client 598] evaluate, config: {}\n",
      "\u001b[36m(ClientAppActor pid=145791)\u001b[0m [Client 661] evaluate, config: {}\n",
      "\u001b[36m(ClientAppActor pid=145791)\u001b[0m [Client 960] evaluate, config: {}\n",
      "\u001b[36m(ClientAppActor pid=145791)\u001b[0m [Client 25] evaluate, config: {}\n",
      "\u001b[36m(ClientAppActor pid=145791)\u001b[0m [Client 740] evaluate, config: {}\n",
      "\u001b[36m(ClientAppActor pid=145791)\u001b[0m [Client 408] evaluate, config: {}\n",
      "\u001b[36m(ClientAppActor pid=145791)\u001b[0m [Client 519] evaluate, config: {}\n",
      "\u001b[36m(ClientAppActor pid=145791)\u001b[0m [Client 857] evaluate, config: {}\n",
      "\u001b[36m(ClientAppActor pid=145791)\u001b[0m [Client 622] evaluate, config: {}\n",
      "\u001b[36m(ClientAppActor pid=145791)\u001b[0m [Client 168] evaluate, config: {}\n",
      "\u001b[36m(ClientAppActor pid=145791)\u001b[0m [Client 85] evaluate, config: {}\n",
      "\u001b[36m(ClientAppActor pid=145791)\u001b[0m [Client 400] evaluate, config: {}\n",
      "\u001b[36m(ClientAppActor pid=145791)\u001b[0m [Client 689] evaluate, config: {}\n",
      "\u001b[36m(ClientAppActor pid=145791)\u001b[0m [Client 692] evaluate, config: {}\n",
      "\u001b[36m(ClientAppActor pid=145791)\u001b[0m [Client 900] evaluate, config: {}\n",
      "\u001b[36m(ClientAppActor pid=145791)\u001b[0m [Client 737] evaluate, config: {}\n",
      "\u001b[36m(ClientAppActor pid=145791)\u001b[0m [Client 977] evaluate, config: {}\n",
      "\u001b[36m(ClientAppActor pid=145791)\u001b[0m [Client 538] evaluate, config: {}\n",
      "\u001b[36m(ClientAppActor pid=145791)\u001b[0m [Client 363] evaluate, config: {}\n",
      "\u001b[36m(ClientAppActor pid=145791)\u001b[0m [Client 150] evaluate, config: {}\n",
      "\u001b[36m(ClientAppActor pid=145791)\u001b[0m [Client 563] evaluate, config: {}\n",
      "\u001b[36m(ClientAppActor pid=145791)\u001b[0m [Client 876] evaluate, config: {}\n",
      "\u001b[36m(ClientAppActor pid=145791)\u001b[0m [Client 117] evaluate, config: {}\n",
      "\u001b[36m(ClientAppActor pid=145791)\u001b[0m [Client 379] evaluate, config: {}\n"
     ]
    },
    {
     "name": "stderr",
     "output_type": "stream",
     "text": [
      "\u001b[92mINFO \u001b[0m:      aggregate_evaluate: received 50 results and 0 failures\n",
      "\u001b[92mINFO \u001b[0m:      \n",
      "\u001b[92mINFO \u001b[0m:      [ROUND 3]\n",
      "\u001b[92mINFO \u001b[0m:      configure_fit: strategy sampled 25 clients (out of 1000)\n"
     ]
    },
    {
     "name": "stdout",
     "output_type": "stream",
     "text": [
      "\u001b[36m(ClientAppActor pid=145791)\u001b[0m [Client 225] evaluate, config: {}\n",
      "\u001b[36m(ClientAppActor pid=145791)\u001b[0m [Client 75, round 3] fit, config: {'server_round': 3, 'local_epochs': 3}\n",
      "\u001b[36m(ClientAppActor pid=145791)\u001b[0m Epoch 1: train loss 0.11550428718328476, accuracy 0.1\n",
      "\u001b[36m(ClientAppActor pid=145791)\u001b[0m Epoch 2: train loss 0.11364906281232834, accuracy 0.125\n",
      "\u001b[36m(ClientAppActor pid=145791)\u001b[0m Epoch 3: train loss 0.11327391862869263, accuracy 0.225\n",
      "\u001b[36m(ClientAppActor pid=145791)\u001b[0m [Client 243, round 3] fit, config: {'server_round': 3, 'local_epochs': 3}\n",
      "\u001b[36m(ClientAppActor pid=145791)\u001b[0m Epoch 1: train loss 0.11311212927103043, accuracy 0.125\n",
      "\u001b[36m(ClientAppActor pid=145791)\u001b[0m Epoch 2: train loss 0.11106453090906143, accuracy 0.125\n",
      "\u001b[36m(ClientAppActor pid=145791)\u001b[0m Epoch 3: train loss 0.1100773960351944, accuracy 0.125\n",
      "\u001b[36m(ClientAppActor pid=145791)\u001b[0m [Client 256, round 3] fit, config: {'server_round': 3, 'local_epochs': 3}\n",
      "\u001b[36m(ClientAppActor pid=145791)\u001b[0m Epoch 1: train loss 0.11496379226446152, accuracy 0.075\n",
      "\u001b[36m(ClientAppActor pid=145791)\u001b[0m Epoch 2: train loss 0.11230688542127609, accuracy 0.075\n",
      "\u001b[36m(ClientAppActor pid=145791)\u001b[0m Epoch 3: train loss 0.11148589849472046, accuracy 0.175\n",
      "\u001b[36m(ClientAppActor pid=145791)\u001b[0m [Client 281, round 3] fit, config: {'server_round': 3, 'local_epochs': 3}\n",
      "\u001b[36m(ClientAppActor pid=145791)\u001b[0m Epoch 1: train loss 0.11584711074829102, accuracy 0.025\n",
      "\u001b[36m(ClientAppActor pid=145791)\u001b[0m Epoch 2: train loss 0.11396797001361847, accuracy 0.025\n",
      "\u001b[36m(ClientAppActor pid=145791)\u001b[0m Epoch 3: train loss 0.11238926649093628, accuracy 0.25\n",
      "\u001b[36m(ClientAppActor pid=145791)\u001b[0m [Client 323, round 3] fit, config: {'server_round': 3, 'local_epochs': 3}\n",
      "\u001b[36m(ClientAppActor pid=145791)\u001b[0m Epoch 1: train loss 0.11545910686254501, accuracy 0.025\n",
      "\u001b[36m(ClientAppActor pid=145791)\u001b[0m Epoch 2: train loss 0.1137283444404602, accuracy 0.05\n",
      "\u001b[36m(ClientAppActor pid=145791)\u001b[0m Epoch 3: train loss 0.11170225590467453, accuracy 0.175\n",
      "\u001b[36m(ClientAppActor pid=145791)\u001b[0m [Client 715, round 3] fit, config: {'server_round': 3, 'local_epochs': 3}\n",
      "\u001b[36m(ClientAppActor pid=145791)\u001b[0m Epoch 1: train loss 0.11411694437265396, accuracy 0.175\n",
      "\u001b[36m(ClientAppActor pid=145791)\u001b[0m Epoch 2: train loss 0.11095930635929108, accuracy 0.175\n",
      "\u001b[36m(ClientAppActor pid=145791)\u001b[0m Epoch 3: train loss 0.11022628843784332, accuracy 0.175\n",
      "\u001b[36m(ClientAppActor pid=145791)\u001b[0m [Client 942, round 3] fit, config: {'server_round': 3, 'local_epochs': 3}\n",
      "\u001b[36m(ClientAppActor pid=145791)\u001b[0m Epoch 1: train loss 0.11459346115589142, accuracy 0.125\n",
      "\u001b[36m(ClientAppActor pid=145791)\u001b[0m Epoch 2: train loss 0.1106489896774292, accuracy 0.125\n",
      "\u001b[36m(ClientAppActor pid=145791)\u001b[0m Epoch 3: train loss 0.10906422138214111, accuracy 0.125\n",
      "\u001b[36m(ClientAppActor pid=145791)\u001b[0m [Client 971, round 3] fit, config: {'server_round': 3, 'local_epochs': 3}\n",
      "\u001b[36m(ClientAppActor pid=145791)\u001b[0m Epoch 1: train loss 0.11446118354797363, accuracy 0.075\n",
      "\u001b[36m(ClientAppActor pid=145791)\u001b[0m Epoch 2: train loss 0.11239843815565109, accuracy 0.1\n",
      "\u001b[36m(ClientAppActor pid=145791)\u001b[0m Epoch 3: train loss 0.11272352188825607, accuracy 0.225\n",
      "\u001b[36m(ClientAppActor pid=145791)\u001b[0m [Client 974, round 3] fit, config: {'server_round': 3, 'local_epochs': 3}\n",
      "\u001b[36m(ClientAppActor pid=145791)\u001b[0m Epoch 1: train loss 0.1155199408531189, accuracy 0.05\n",
      "\u001b[36m(ClientAppActor pid=145791)\u001b[0m Epoch 2: train loss 0.1134391576051712, accuracy 0.15\n",
      "\u001b[36m(ClientAppActor pid=145791)\u001b[0m Epoch 3: train loss 0.11188045889139175, accuracy 0.375\n",
      "\u001b[36m(ClientAppActor pid=145791)\u001b[0m [Client 980, round 3] fit, config: {'server_round': 3, 'local_epochs': 3}\n",
      "\u001b[36m(ClientAppActor pid=145791)\u001b[0m Epoch 1: train loss 0.11447279900312424, accuracy 0.075\n",
      "\u001b[36m(ClientAppActor pid=145791)\u001b[0m Epoch 2: train loss 0.11286802589893341, accuracy 0.175\n",
      "\u001b[36m(ClientAppActor pid=145791)\u001b[0m Epoch 3: train loss 0.1120709702372551, accuracy 0.3\n",
      "\u001b[36m(ClientAppActor pid=145791)\u001b[0m [Client 47, round 3] fit, config: {'server_round': 3, 'local_epochs': 3}\n",
      "\u001b[36m(ClientAppActor pid=145791)\u001b[0m Epoch 1: train loss 0.11445319652557373, accuracy 0.075\n",
      "\u001b[36m(ClientAppActor pid=145791)\u001b[0m Epoch 2: train loss 0.11318623274564743, accuracy 0.1\n",
      "\u001b[36m(ClientAppActor pid=145791)\u001b[0m Epoch 3: train loss 0.11194001883268356, accuracy 0.275\n",
      "\u001b[36m(ClientAppActor pid=145791)\u001b[0m [Client 158, round 3] fit, config: {'server_round': 3, 'local_epochs': 3}\n",
      "\u001b[36m(ClientAppActor pid=145791)\u001b[0m Epoch 1: train loss 0.11421792954206467, accuracy 0.175\n",
      "\u001b[36m(ClientAppActor pid=145791)\u001b[0m Epoch 2: train loss 0.11108069866895676, accuracy 0.175\n",
      "\u001b[36m(ClientAppActor pid=145791)\u001b[0m Epoch 3: train loss 0.11021696776151657, accuracy 0.175\n",
      "\u001b[36m(ClientAppActor pid=145791)\u001b[0m [Client 255, round 3] fit, config: {'server_round': 3, 'local_epochs': 3}\n",
      "\u001b[36m(ClientAppActor pid=145791)\u001b[0m Epoch 1: train loss 0.1141599640250206, accuracy 0.1\n",
      "\u001b[36m(ClientAppActor pid=145791)\u001b[0m Epoch 2: train loss 0.11171738058328629, accuracy 0.225\n",
      "\u001b[36m(ClientAppActor pid=145791)\u001b[0m Epoch 3: train loss 0.11189854145050049, accuracy 0.225\n",
      "\u001b[36m(ClientAppActor pid=145791)\u001b[0m [Client 268, round 3] fit, config: {'server_round': 3, 'local_epochs': 3}\n",
      "\u001b[36m(ClientAppActor pid=145791)\u001b[0m Epoch 1: train loss 0.11589433997869492, accuracy 0.05\n",
      "\u001b[36m(ClientAppActor pid=145791)\u001b[0m Epoch 2: train loss 0.1139458641409874, accuracy 0.05\n",
      "\u001b[36m(ClientAppActor pid=145791)\u001b[0m Epoch 3: train loss 0.11135025322437286, accuracy 0.075\n",
      "\u001b[36m(ClientAppActor pid=145791)\u001b[0m [Client 443, round 3] fit, config: {'server_round': 3, 'local_epochs': 3}\n",
      "\u001b[36m(ClientAppActor pid=145791)\u001b[0m Epoch 1: train loss 0.11374767124652863, accuracy 0.075\n",
      "\u001b[36m(ClientAppActor pid=145791)\u001b[0m Epoch 2: train loss 0.11350362747907639, accuracy 0.075\n",
      "\u001b[36m(ClientAppActor pid=145791)\u001b[0m Epoch 3: train loss 0.1112121120095253, accuracy 0.1\n",
      "\u001b[36m(ClientAppActor pid=145791)\u001b[0m [Client 603, round 3] fit, config: {'server_round': 3, 'local_epochs': 3}\n",
      "\u001b[36m(ClientAppActor pid=145791)\u001b[0m Epoch 1: train loss 0.11550285667181015, accuracy 0.075\n",
      "\u001b[36m(ClientAppActor pid=145791)\u001b[0m Epoch 2: train loss 0.11153843253850937, accuracy 0.1\n",
      "\u001b[36m(ClientAppActor pid=145791)\u001b[0m Epoch 3: train loss 0.10828430950641632, accuracy 0.275\n",
      "\u001b[36m(ClientAppActor pid=145791)\u001b[0m [Client 609, round 3] fit, config: {'server_round': 3, 'local_epochs': 3}\n",
      "\u001b[36m(ClientAppActor pid=145791)\u001b[0m Epoch 1: train loss 0.1155908852815628, accuracy 0.05\n",
      "\u001b[36m(ClientAppActor pid=145791)\u001b[0m Epoch 2: train loss 0.1138673797249794, accuracy 0.05\n",
      "\u001b[36m(ClientAppActor pid=145791)\u001b[0m Epoch 3: train loss 0.11288001388311386, accuracy 0.05\n",
      "\u001b[36m(ClientAppActor pid=145791)\u001b[0m [Client 673, round 3] fit, config: {'server_round': 3, 'local_epochs': 3}\n",
      "\u001b[36m(ClientAppActor pid=145791)\u001b[0m Epoch 1: train loss 0.11573648452758789, accuracy 0.05\n",
      "\u001b[36m(ClientAppActor pid=145791)\u001b[0m Epoch 2: train loss 0.1137627363204956, accuracy 0.075\n",
      "\u001b[36m(ClientAppActor pid=145791)\u001b[0m Epoch 3: train loss 0.11207745224237442, accuracy 0.175\n",
      "\u001b[36m(ClientAppActor pid=145791)\u001b[0m [Client 775, round 3] fit, config: {'server_round': 3, 'local_epochs': 3}\n",
      "\u001b[36m(ClientAppActor pid=145791)\u001b[0m Epoch 1: train loss 0.11387436836957932, accuracy 0.1\n",
      "\u001b[36m(ClientAppActor pid=145791)\u001b[0m Epoch 2: train loss 0.11228137463331223, accuracy 0.1\n",
      "\u001b[36m(ClientAppActor pid=145791)\u001b[0m Epoch 3: train loss 0.1119808480143547, accuracy 0.25\n",
      "\u001b[36m(ClientAppActor pid=145791)\u001b[0m [Client 778, round 3] fit, config: {'server_round': 3, 'local_epochs': 3}\n",
      "\u001b[36m(ClientAppActor pid=145791)\u001b[0m Epoch 1: train loss 0.11547926813364029, accuracy 0.075\n",
      "\u001b[36m(ClientAppActor pid=145791)\u001b[0m Epoch 2: train loss 0.11401557922363281, accuracy 0.1\n",
      "\u001b[36m(ClientAppActor pid=145791)\u001b[0m Epoch 3: train loss 0.11108117550611496, accuracy 0.225\n",
      "\u001b[36m(ClientAppActor pid=145791)\u001b[0m [Client 430, round 3] fit, config: {'server_round': 3, 'local_epochs': 3}\n",
      "\u001b[36m(ClientAppActor pid=145791)\u001b[0m Epoch 1: train loss 0.11573505401611328, accuracy 0.05\n",
      "\u001b[36m(ClientAppActor pid=145791)\u001b[0m Epoch 2: train loss 0.1131768748164177, accuracy 0.05\n",
      "\u001b[36m(ClientAppActor pid=145791)\u001b[0m Epoch 3: train loss 0.11163735389709473, accuracy 0.225\n",
      "\u001b[36m(ClientAppActor pid=145791)\u001b[0m [Client 642, round 3] fit, config: {'server_round': 3, 'local_epochs': 3}\n",
      "\u001b[36m(ClientAppActor pid=145791)\u001b[0m Epoch 1: train loss 0.1159878745675087, accuracy 0.05\n",
      "\u001b[36m(ClientAppActor pid=145791)\u001b[0m Epoch 2: train loss 0.11384334415197372, accuracy 0.05\n",
      "\u001b[36m(ClientAppActor pid=145791)\u001b[0m Epoch 3: train loss 0.11218583583831787, accuracy 0.15\n",
      "\u001b[36m(ClientAppActor pid=145791)\u001b[0m [Client 902, round 3] fit, config: {'server_round': 3, 'local_epochs': 3}\n",
      "\u001b[36m(ClientAppActor pid=145791)\u001b[0m Epoch 1: train loss 0.11409826576709747, accuracy 0.125\n",
      "\u001b[36m(ClientAppActor pid=145791)\u001b[0m Epoch 2: train loss 0.11134164780378342, accuracy 0.125\n",
      "\u001b[36m(ClientAppActor pid=145791)\u001b[0m Epoch 3: train loss 0.10940327495336533, accuracy 0.15\n",
      "\u001b[36m(ClientAppActor pid=145791)\u001b[0m [Client 240, round 3] fit, config: {'server_round': 3, 'local_epochs': 3}\n",
      "\u001b[36m(ClientAppActor pid=145791)\u001b[0m Epoch 1: train loss 0.11462950706481934, accuracy 0.1\n",
      "\u001b[36m(ClientAppActor pid=145791)\u001b[0m Epoch 2: train loss 0.11297078430652618, accuracy 0.1\n",
      "\u001b[36m(ClientAppActor pid=145791)\u001b[0m Epoch 3: train loss 0.10998886078596115, accuracy 0.15\n"
     ]
    },
    {
     "name": "stderr",
     "output_type": "stream",
     "text": [
      "\u001b[92mINFO \u001b[0m:      aggregate_fit: received 25 results and 0 failures\n",
      "\u001b[92mINFO \u001b[0m:      configure_evaluate: strategy sampled 50 clients (out of 1000)\n"
     ]
    },
    {
     "name": "stdout",
     "output_type": "stream",
     "text": [
      "\u001b[36m(ClientAppActor pid=145791)\u001b[0m [Client 475, round 3] fit, config: {'server_round': 3, 'local_epochs': 3}\n",
      "\u001b[36m(ClientAppActor pid=145791)\u001b[0m Epoch 1: train loss 0.11326520889997482, accuracy 0.2\n",
      "\u001b[36m(ClientAppActor pid=145791)\u001b[0m Epoch 2: train loss 0.11073123663663864, accuracy 0.2\n",
      "\u001b[36m(ClientAppActor pid=145791)\u001b[0m Epoch 3: train loss 0.10847633332014084, accuracy 0.2\n",
      "\u001b[36m(ClientAppActor pid=145791)\u001b[0m [Client 58] evaluate, config: {}\n",
      "\u001b[36m(ClientAppActor pid=145791)\u001b[0m [Client 116] evaluate, config: {}\n",
      "\u001b[36m(ClientAppActor pid=145791)\u001b[0m [Client 171] evaluate, config: {}\n",
      "\u001b[36m(ClientAppActor pid=145791)\u001b[0m [Client 178] evaluate, config: {}\n",
      "\u001b[36m(ClientAppActor pid=145791)\u001b[0m [Client 192] evaluate, config: {}\n",
      "\u001b[36m(ClientAppActor pid=145791)\u001b[0m [Client 194] evaluate, config: {}\n",
      "\u001b[36m(ClientAppActor pid=145791)\u001b[0m [Client 199] evaluate, config: {}\n",
      "\u001b[36m(ClientAppActor pid=145791)\u001b[0m [Client 254] evaluate, config: {}\n",
      "\u001b[36m(ClientAppActor pid=145791)\u001b[0m [Client 444] evaluate, config: {}\n",
      "\u001b[36m(ClientAppActor pid=145791)\u001b[0m [Client 505] evaluate, config: {}\n",
      "\u001b[36m(ClientAppActor pid=145791)\u001b[0m [Client 508] evaluate, config: {}\n",
      "\u001b[36m(ClientAppActor pid=145791)\u001b[0m [Client 555] evaluate, config: {}\n",
      "\u001b[36m(ClientAppActor pid=145791)\u001b[0m [Client 623] evaluate, config: {}\n",
      "\u001b[36m(ClientAppActor pid=145791)\u001b[0m [Client 645] evaluate, config: {}\n",
      "\u001b[36m(ClientAppActor pid=145791)\u001b[0m [Client 733] evaluate, config: {}\n",
      "\u001b[36m(ClientAppActor pid=145791)\u001b[0m [Client 795] evaluate, config: {}\n",
      "\u001b[36m(ClientAppActor pid=145791)\u001b[0m [Client 800] evaluate, config: {}\n",
      "\u001b[36m(ClientAppActor pid=145791)\u001b[0m [Client 815] evaluate, config: {}\n",
      "\u001b[36m(ClientAppActor pid=145791)\u001b[0m [Client 871] evaluate, config: {}\n",
      "\u001b[36m(ClientAppActor pid=145791)\u001b[0m [Client 899] evaluate, config: {}\n",
      "\u001b[36m(ClientAppActor pid=145791)\u001b[0m [Client 124] evaluate, config: {}\n",
      "\u001b[36m(ClientAppActor pid=145791)\u001b[0m [Client 267] evaluate, config: {}\n",
      "\u001b[36m(ClientAppActor pid=145791)\u001b[0m [Client 196] evaluate, config: {}\n",
      "\u001b[36m(ClientAppActor pid=145791)\u001b[0m [Client 468] evaluate, config: {}\n",
      "\u001b[36m(ClientAppActor pid=145791)\u001b[0m [Client 240] evaluate, config: {}\n",
      "\u001b[36m(ClientAppActor pid=145791)\u001b[0m [Client 429] evaluate, config: {}\n",
      "\u001b[36m(ClientAppActor pid=145791)\u001b[0m [Client 604] evaluate, config: {}\n",
      "\u001b[36m(ClientAppActor pid=145791)\u001b[0m [Client 259] evaluate, config: {}\n",
      "\u001b[36m(ClientAppActor pid=145791)\u001b[0m [Client 476] evaluate, config: {}\n",
      "\u001b[36m(ClientAppActor pid=145791)\u001b[0m [Client 482] evaluate, config: {}\n",
      "\u001b[36m(ClientAppActor pid=145791)\u001b[0m [Client 901] evaluate, config: {}\n",
      "\u001b[36m(ClientAppActor pid=145791)\u001b[0m [Client 961] evaluate, config: {}\n",
      "\u001b[36m(ClientAppActor pid=145791)\u001b[0m [Client 354] evaluate, config: {}\n",
      "\u001b[36m(ClientAppActor pid=145791)\u001b[0m [Client 671] evaluate, config: {}\n",
      "\u001b[36m(ClientAppActor pid=145791)\u001b[0m [Client 458] evaluate, config: {}\n",
      "\u001b[36m(ClientAppActor pid=145791)\u001b[0m [Client 430] evaluate, config: {}\n",
      "\u001b[36m(ClientAppActor pid=145791)\u001b[0m [Client 875] evaluate, config: {}\n",
      "\u001b[36m(ClientAppActor pid=145791)\u001b[0m [Client 991] evaluate, config: {}\n",
      "\u001b[36m(ClientAppActor pid=145791)\u001b[0m [Client 519] evaluate, config: {}\n",
      "\u001b[36m(ClientAppActor pid=145791)\u001b[0m [Client 102] evaluate, config: {}\n",
      "\u001b[36m(ClientAppActor pid=145791)\u001b[0m [Client 445] evaluate, config: {}\n",
      "\u001b[36m(ClientAppActor pid=145791)\u001b[0m [Client 435] evaluate, config: {}\n",
      "\u001b[36m(ClientAppActor pid=145791)\u001b[0m [Client 322] evaluate, config: {}\n",
      "\u001b[36m(ClientAppActor pid=145791)\u001b[0m [Client 454] evaluate, config: {}\n",
      "\u001b[36m(ClientAppActor pid=145791)\u001b[0m [Client 570] evaluate, config: {}\n",
      "\u001b[36m(ClientAppActor pid=145791)\u001b[0m [Client 954] evaluate, config: {}\n",
      "\u001b[36m(ClientAppActor pid=145791)\u001b[0m [Client 282] evaluate, config: {}\n",
      "\u001b[36m(ClientAppActor pid=145791)\u001b[0m [Client 128] evaluate, config: {}\n",
      "\u001b[36m(ClientAppActor pid=145791)\u001b[0m [Client 479] evaluate, config: {}\n"
     ]
    },
    {
     "name": "stderr",
     "output_type": "stream",
     "text": [
      "\u001b[92mINFO \u001b[0m:      aggregate_evaluate: received 50 results and 0 failures\n",
      "\u001b[92mINFO \u001b[0m:      \n",
      "\u001b[92mINFO \u001b[0m:      [SUMMARY]\n",
      "\u001b[92mINFO \u001b[0m:      Run finished 3 round(s) in 817.18s\n",
      "\u001b[92mINFO \u001b[0m:      \tHistory (loss, distributed):\n",
      "\u001b[92mINFO \u001b[0m:      \t\tround 1: 0.23007594823837277\n",
      "\u001b[92mINFO \u001b[0m:      \t\tround 2: 0.23008259344100943\n",
      "\u001b[92mINFO \u001b[0m:      \t\tround 3: 0.22783266162872312\n",
      "\u001b[92mINFO \u001b[0m:      \n"
     ]
    },
    {
     "name": "stdout",
     "output_type": "stream",
     "text": [
      "\u001b[36m(ClientAppActor pid=145791)\u001b[0m [Client 145] evaluate, config: {}\n"
     ]
    }
   ],
   "source": [
    "def fit_config(server_round: int):\n",
    "    config = {\n",
    "        \"server_round\": server_round,\n",
    "        \"local_epochs\": 3,\n",
    "    }\n",
    "    return config\n",
    "\n",
    "\n",
    "def server_fn(context: Context) -> ServerAppComponents:\n",
    "    # Create FedAvg strategy\n",
    "    strategy = FedAvg(\n",
    "        fraction_fit=0.025,  # Train on 25 clients (each round)\n",
    "        fraction_evaluate=0.05,  # Evaluate on 50 clients (each round)\n",
    "        min_fit_clients=20,\n",
    "        min_evaluate_clients=40,\n",
    "        min_available_clients=NUM_PARTITIONS,\n",
    "        initial_parameters=ndarrays_to_parameters(params),\n",
    "        on_fit_config_fn=fit_config,\n",
    "    )\n",
    "    config = ServerConfig(num_rounds=3)\n",
    "    return ServerAppComponents(strategy=strategy, config=config)\n",
    "\n",
    "\n",
    "# Create the ServerApp\n",
    "server = ServerApp(server_fn=server_fn)\n",
    "\n",
    "# Run simulation\n",
    "run_simulation(\n",
    "    server_app=server,\n",
    "    client_app=client,\n",
    "    num_supernodes=NUM_PARTITIONS,\n",
    "    backend_config=backend_config,\n",
    ")"
   ]
  },
  {
   "cell_type": "code",
   "execution_count": null,
   "id": "dc1e4dd0",
   "metadata": {},
   "outputs": [],
   "source": []
  }
 ],
 "metadata": {
  "kernelspec": {
   "display_name": "flwr",
   "language": "python",
   "name": "python3"
  },
  "language_info": {
   "codemirror_mode": {
    "name": "ipython",
    "version": 3
   },
   "file_extension": ".py",
   "mimetype": "text/x-python",
   "name": "python",
   "nbconvert_exporter": "python",
   "pygments_lexer": "ipython3",
   "version": "3.10.0"
  }
 },
 "nbformat": 4,
 "nbformat_minor": 5
}
