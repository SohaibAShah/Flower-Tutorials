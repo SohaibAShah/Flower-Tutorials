{
 "cells": [
  {
   "cell_type": "code",
   "execution_count": 4,
   "id": "35ba97a2",
   "metadata": {},
   "outputs": [
    {
     "name": "stderr",
     "output_type": "stream",
     "text": [
      "2025-08-07 15:50:56,686\tINFO util.py:154 -- Missing packages: ['ipywidgets']. Run `pip install -U ipywidgets`, then restart the notebook server for rich notebook output.\n"
     ]
    },
    {
     "name": "stdout",
     "output_type": "stream",
     "text": [
      "Training on cuda\n",
      "Flower 1.20.0 / PyTorch 2.8.0+cu128\n"
     ]
    }
   ],
   "source": [
    "from collections import OrderedDict\n",
    "from typing import List, Tuple\n",
    "\n",
    "import matplotlib.pyplot as plt\n",
    "import numpy as np\n",
    "import torch\n",
    "import torch.nn as nn\n",
    "import torch.nn.functional as F\n",
    "import torchvision.transforms as transforms\n",
    "from datasets.utils.logging import disable_progress_bar\n",
    "from torch.utils.data import DataLoader\n",
    "\n",
    "import flwr\n",
    "from flwr.client import Client, ClientApp, NumPyClient\n",
    "from flwr.common import Metrics, Context\n",
    "from flwr.server import ServerApp, ServerConfig, ServerAppComponents\n",
    "from flwr.server.strategy import FedAvg\n",
    "from flwr.simulation import run_simulation\n",
    "from flwr_datasets import FederatedDataset\n",
    "\n",
    "DEVICE = \"cuda\" if torch.cuda.is_available() else \"cpu\"\n",
    "print(f\"Training on {DEVICE}\")\n",
    "print(f\"Flower {flwr.__version__} / PyTorch {torch.__version__}\")\n",
    "disable_progress_bar()"
   ]
  },
  {
   "cell_type": "code",
   "execution_count": null,
   "id": "ee53fc4e",
   "metadata": {},
   "outputs": [],
   "source": [
    "NUM_CLIENTS = 10\n",
    "BATCH_SIZE = 32\n",
    "\n",
    "def load_datasets(partition_id: int):\n",
    "    \"\"\"Load datasets for a given partition ID.\"\"\"\n",
    "    fds = FederatedDataset(\n",
    "        dataset=\"cifar10\",\n",
    "        partitioners = {\n",
    "            \"train\": NUM_CLIENTS\n",
    "        }\n",
    "    )\n",
    "    \n",
    "    partition = fds.load_partition(partition_id)\n",
    "\n",
    "    \"\"\"Divide the partition into 80% train and 20% test sets.\"\"\"\n",
    "\n",
    "    partition_train_test = partition.train_test_split(\n",
    "        train_size=0.8,\n",
    "        seed=42\n",
    "    )\n",
    "    \n",
    "    pytorch_transform = transforms.Compose([\n",
    "        transforms.ToTensor(),\n",
    "        transforms.Normalize((0.5, 0.5, 0.5), (0.5, 0.5, 0.5))\n",
    "        ]\n",
    "    )\n",
    "\n",
    "    def apply_transform(batch):\n",
    "        \"\"\"Instead of passing transforms to CIFAR10(..., transform=transform)\n",
    "        we will use this function to dataset.with_transform(apply_transforms)\n",
    "        The transforms object is exactly the same\"\"\"\n",
    "        batch[\"img\"] = [pytorch_transform(img) for img in batch[\"img\"]]\n",
    "        return batch\n",
    "    \n",
    "    \"\"\"Create train and test datasets with the applied transforms for each partition,\n",
    "    and wrap them in DataLoader.\"\"\"\n",
    "\n",
    "    partition_train_test = partition_train_test.with_transform(apply_transform)\n",
    "    trainloader = DataLoader(\n",
    "        partition_train_test[\"train\"], \n",
    "        batch_size=BATCH_SIZE,\n",
    "        shuffle=True\n",
    "    )\n",
    "    \"\"\"Create a test DataLoader without shuffling\n",
    "    to ensure that the test data is processed in the same order each time.\n",
    "    This is important for evaluation consistency.\"\"\"\n",
    "    valloader = DataLoader(\n",
    "        partition_train_test[\"test\"],\n",
    "        batch_size=BATCH_SIZE,\n",
    "    )\n",
    "\n",
    "    testset = fds.load_dataset(\"cifar10\", \"test\")\n",
    "    testset = testset.with_transform(apply_transform)\n",
    "    testloader = DataLoader(\n",
    "        testset,\n",
    "        batch_size=BATCH_SIZE\n",
    "    )\n",
    "\n",
    "    return trainloader, valloader, testloader"
   ]
  },
  {
   "cell_type": "code",
   "execution_count": null,
   "id": "b53fdca8",
   "metadata": {},
   "outputs": [],
   "source": []
  }
 ],
 "metadata": {
  "kernelspec": {
   "display_name": "flwr",
   "language": "python",
   "name": "python3"
  },
  "language_info": {
   "codemirror_mode": {
    "name": "ipython",
    "version": 3
   },
   "file_extension": ".py",
   "mimetype": "text/x-python",
   "name": "python",
   "nbconvert_exporter": "python",
   "pygments_lexer": "ipython3",
   "version": "3.10.0"
  }
 },
 "nbformat": 4,
 "nbformat_minor": 5
}
